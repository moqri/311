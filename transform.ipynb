{
 "cells": [
  {
   "cell_type": "code",
   "execution_count": null,
   "metadata": {},
   "outputs": [],
   "source": [
    "import pandas as pd"
   ]
  },
  {
   "cell_type": "code",
   "execution_count": null,
   "metadata": {},
   "outputs": [],
   "source": [
    "df=pd.read_csv('311.csv')"
   ]
  },
  {
   "cell_type": "code",
   "execution_count": null,
   "metadata": {},
   "outputs": [],
   "source": [
    "df.columns=['service_request_id',\n",
    "         'service_name',\n",
    "         'requested_datetime',\n",
    "         'source',\n",
    "         'description',\n",
    "         'status_description',\n",
    "         'updated_datetime',\n",
    "         'service_subtype',\n",
    "         'neighborhood_district',\n",
    "         'closed_date',\n",
    "         'location',\n",
    "         'address',         \n",
    "        ]"
   ]
  },
  {
   "cell_type": "code",
   "execution_count": null,
   "metadata": {},
   "outputs": [],
   "source": [
    "df['lat']=df.location.apply(lambda x : x.split('\\n')[2].split(',')[0][1:])\n",
    "df['long']=df.location.apply(lambda x : x.split('\\n')[2].split(',')[1][:-1])"
   ]
  },
  {
   "cell_type": "code",
   "execution_count": null,
   "metadata": {},
   "outputs": [],
   "source": [
    "df['requested_datetime']=pd.to_datetime(df['requested_datetime'])\n",
    "df['updated_datetime']=pd.to_datetime(df['updated_datetime'])\n",
    "df['closed_date']=pd.to_datetime(df['closed_date'])"
   ]
  },
  {
   "cell_type": "code",
   "execution_count": null,
   "metadata": {},
   "outputs": [],
   "source": [
    "df['requested_datetime']=df['requested_datetime'].dt.strftime('%Y%m%dT%H:%MZ')\n",
    "df['updated_datetime']=df['updated_datetime'].dt.strftime('%Y%m%dT%H:%MZ')\n",
    "df['closed_date']=df['closed_date'].dt.strftime('%Y%m%dT%H:%MZ')"
   ]
  },
  {
   "cell_type": "code",
   "execution_count": null,
   "metadata": {},
   "outputs": [],
   "source": [
    "df.head(10)"
   ]
  },
  {
   "cell_type": "code",
   "execution_count": null,
   "metadata": {
    "collapsed": true
   },
   "outputs": [],
   "source": [
    "df.to_csv('311_geo_report.csv',index=False)"
   ]
  }
 ],
 "metadata": {
  "kernelspec": {
   "display_name": "Python 2",
   "language": "python",
   "name": "python2"
  },
  "language_info": {
   "codemirror_mode": {
    "name": "ipython",
    "version": 2
   },
   "file_extension": ".py",
   "mimetype": "text/x-python",
   "name": "python",
   "nbconvert_exporter": "python",
   "pygments_lexer": "ipython2",
   "version": "2.7.13"
  }
 },
 "nbformat": 4,
 "nbformat_minor": 2
}
