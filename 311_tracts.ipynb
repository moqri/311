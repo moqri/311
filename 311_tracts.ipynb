{
 "cells": [
  {
   "cell_type": "code",
   "execution_count": 1,
   "metadata": {
    "collapsed": false
   },
   "outputs": [
    {
     "data": {
      "text/html": [
       "<script>\n",
       "code_show=true; \n",
       "function code_toggle() {\n",
       " if (code_show){\n",
       " $('div.input').hide();\n",
       " } else {\n",
       " $('div.input').show();\n",
       " }\n",
       " code_show = !code_show\n",
       "} \n",
       "$( document ).ready(code_toggle);\n",
       "</script>\n",
       "<form action=\"javascript:code_toggle()\"><input type=\"submit\" value=\"Click here to toggle on/off the raw code.\"></form>"
      ],
      "text/plain": [
       "<IPython.core.display.HTML object>"
      ]
     },
     "execution_count": 1,
     "metadata": {},
     "output_type": "execute_result"
    }
   ],
   "source": [
    "from IPython.display import HTML\n",
    "\n",
    "HTML('''<script>\n",
    "code_show=true; \n",
    "function code_toggle() {\n",
    " if (code_show){\n",
    " $('div.input').hide();\n",
    " } else {\n",
    " $('div.input').show();\n",
    " }\n",
    " code_show = !code_show\n",
    "} \n",
    "$( document ).ready(code_toggle);\n",
    "</script>\n",
    "<form action=\"javascript:code_toggle()\"><input type=\"submit\" value=\"Click here to toggle on/off the raw code.\"></form>''')"
   ]
  },
  {
   "cell_type": "code",
   "execution_count": 49,
   "metadata": {
    "collapsed": true
   },
   "outputs": [],
   "source": [
    "import pandas as pd\n",
    "import matplotlib\n",
    "from IPython.display import Image\n",
    "from IPython.core.display import HTML \n",
    "\n",
    "%matplotlib inline"
   ]
  },
  {
   "cell_type": "markdown",
   "metadata": {},
   "source": [
    "### Data Table: (Rows, Columns)"
   ]
  },
  {
   "cell_type": "code",
   "execution_count": 51,
   "metadata": {
    "collapsed": false,
    "scrolled": true
   },
   "outputs": [
    {
     "data": {
      "text/plain": [
       "(25739, 23)"
      ]
     },
     "execution_count": 51,
     "metadata": {},
     "output_type": "execute_result"
    }
   ],
   "source": [
    "df=pd.read_csv('311_geo_report_tracts.csv',parse_dates=['requested_datetime','updated_datetime','closed_date'])\n",
    "df.shape"
   ]
  },
  {
   "cell_type": "markdown",
   "metadata": {},
   "source": [
    "### Sample Data"
   ]
  },
  {
   "cell_type": "code",
   "execution_count": 52,
   "metadata": {
    "collapsed": false
   },
   "outputs": [
    {
     "data": {
      "text/html": [
       "<div>\n",
       "<table border=\"1\" class=\"dataframe\">\n",
       "  <thead>\n",
       "    <tr style=\"text-align: right;\">\n",
       "      <th></th>\n",
       "      <th>service_request_id</th>\n",
       "      <th>service_name</th>\n",
       "      <th>requested_datetime</th>\n",
       "      <th>source</th>\n",
       "      <th>description</th>\n",
       "      <th>status_description</th>\n",
       "      <th>updated_datetime</th>\n",
       "      <th>service_subtype</th>\n",
       "      <th>neighborhood_district</th>\n",
       "      <th>closed_date</th>\n",
       "      <th>...</th>\n",
       "      <th>long</th>\n",
       "      <th>STATEFP</th>\n",
       "      <th>COUNTYFP</th>\n",
       "      <th>TRACTCE</th>\n",
       "      <th>AFFGEOID</th>\n",
       "      <th>GEOID</th>\n",
       "      <th>NAME</th>\n",
       "      <th>LSAD</th>\n",
       "      <th>ALAND</th>\n",
       "      <th>AWATER</th>\n",
       "    </tr>\n",
       "  </thead>\n",
       "  <tbody>\n",
       "    <tr>\n",
       "      <th>0</th>\n",
       "      <td>400578</td>\n",
       "      <td>Trash questions</td>\n",
       "      <td>2015-07-02 12:17:00</td>\n",
       "      <td>33891</td>\n",
       "      <td>DPW Sanitation</td>\n",
       "      <td>Closed</td>\n",
       "      <td>2017-06-26 20:17:00</td>\n",
       "      <td>information calls</td>\n",
       "      <td>Ward 7</td>\n",
       "      <td>2017-06-26 20:17:00</td>\n",
       "      <td>...</td>\n",
       "      <td>-71.12520</td>\n",
       "      <td>25</td>\n",
       "      <td>17</td>\n",
       "      <td>350600</td>\n",
       "      <td>1400000US25017350600</td>\n",
       "      <td>25017350600</td>\n",
       "      <td>3506.0</td>\n",
       "      <td>CT</td>\n",
       "      <td>516247</td>\n",
       "      <td>0</td>\n",
       "    </tr>\n",
       "    <tr>\n",
       "      <th>1</th>\n",
       "      <td>400606</td>\n",
       "      <td>Request tree on public property</td>\n",
       "      <td>2015-07-02 12:59:00</td>\n",
       "      <td>43103</td>\n",
       "      <td>OSPCD</td>\n",
       "      <td>Closed</td>\n",
       "      <td>2017-06-08 12:35:00</td>\n",
       "      <td>Service Requests</td>\n",
       "      <td>Ward 5</td>\n",
       "      <td>2017-06-08 12:35:00</td>\n",
       "      <td>...</td>\n",
       "      <td>-71.10195</td>\n",
       "      <td>25</td>\n",
       "      <td>17</td>\n",
       "      <td>350200</td>\n",
       "      <td>1400000US25017350200</td>\n",
       "      <td>25017350200</td>\n",
       "      <td>3502.0</td>\n",
       "      <td>CT</td>\n",
       "      <td>683707</td>\n",
       "      <td>0</td>\n",
       "    </tr>\n",
       "    <tr>\n",
       "      <th>2</th>\n",
       "      <td>401540</td>\n",
       "      <td>Temporary no parking sign posting</td>\n",
       "      <td>2015-07-07 10:08:00</td>\n",
       "      <td>43542</td>\n",
       "      <td>Traffic and Parking</td>\n",
       "      <td>Closed</td>\n",
       "      <td>2017-06-29 15:58:00</td>\n",
       "      <td>internally generated</td>\n",
       "      <td>Ward 6</td>\n",
       "      <td>2017-06-29 15:58:00</td>\n",
       "      <td>...</td>\n",
       "      <td>-71.11537</td>\n",
       "      <td>25</td>\n",
       "      <td>17</td>\n",
       "      <td>350900</td>\n",
       "      <td>1400000US25017350900</td>\n",
       "      <td>25017350900</td>\n",
       "      <td>3509.0</td>\n",
       "      <td>CT</td>\n",
       "      <td>421685</td>\n",
       "      <td>0</td>\n",
       "    </tr>\n",
       "    <tr>\n",
       "      <th>3</th>\n",
       "      <td>402710</td>\n",
       "      <td>Request tree on public property</td>\n",
       "      <td>2015-07-10 11:12:00</td>\n",
       "      <td>27228</td>\n",
       "      <td>OSPCD</td>\n",
       "      <td>Closed</td>\n",
       "      <td>2016-02-23 10:08:00</td>\n",
       "      <td>Service Requests</td>\n",
       "      <td>Ward 3</td>\n",
       "      <td>2016-02-23 10:08:00</td>\n",
       "      <td>...</td>\n",
       "      <td>-71.11064</td>\n",
       "      <td>25</td>\n",
       "      <td>17</td>\n",
       "      <td>351000</td>\n",
       "      <td>1400000US25017351000</td>\n",
       "      <td>25017351000</td>\n",
       "      <td>3510.0</td>\n",
       "      <td>CT</td>\n",
       "      <td>668313</td>\n",
       "      <td>0</td>\n",
       "    </tr>\n",
       "    <tr>\n",
       "      <th>4</th>\n",
       "      <td>403238</td>\n",
       "      <td>Arborist and tree maintenance</td>\n",
       "      <td>2015-07-13 15:20:00</td>\n",
       "      <td>31420</td>\n",
       "      <td>DPW-Highway</td>\n",
       "      <td>Closed</td>\n",
       "      <td>2017-05-09 14:03:00</td>\n",
       "      <td>Service Requests</td>\n",
       "      <td>Ward 7</td>\n",
       "      <td>2017-05-09 14:03:00</td>\n",
       "      <td>...</td>\n",
       "      <td>-71.12431</td>\n",
       "      <td>25</td>\n",
       "      <td>17</td>\n",
       "      <td>350600</td>\n",
       "      <td>1400000US25017350600</td>\n",
       "      <td>25017350600</td>\n",
       "      <td>3506.0</td>\n",
       "      <td>CT</td>\n",
       "      <td>516247</td>\n",
       "      <td>0</td>\n",
       "    </tr>\n",
       "  </tbody>\n",
       "</table>\n",
       "<p>5 rows × 23 columns</p>\n",
       "</div>"
      ],
      "text/plain": [
       "   service_request_id                       service_name  requested_datetime  \\\n",
       "0              400578                    Trash questions 2015-07-02 12:17:00   \n",
       "1              400606    Request tree on public property 2015-07-02 12:59:00   \n",
       "2              401540  Temporary no parking sign posting 2015-07-07 10:08:00   \n",
       "3              402710    Request tree on public property 2015-07-10 11:12:00   \n",
       "4              403238      Arborist and tree maintenance 2015-07-13 15:20:00   \n",
       "\n",
       "   source          description status_description    updated_datetime  \\\n",
       "0   33891       DPW Sanitation             Closed 2017-06-26 20:17:00   \n",
       "1   43103                OSPCD             Closed 2017-06-08 12:35:00   \n",
       "2   43542  Traffic and Parking             Closed 2017-06-29 15:58:00   \n",
       "3   27228                OSPCD             Closed 2016-02-23 10:08:00   \n",
       "4   31420          DPW-Highway             Closed 2017-05-09 14:03:00   \n",
       "\n",
       "        service_subtype neighborhood_district         closed_date   ...    \\\n",
       "0     information calls                Ward 7 2017-06-26 20:17:00   ...     \n",
       "1      Service Requests                Ward 5 2017-06-08 12:35:00   ...     \n",
       "2  internally generated                Ward 6 2017-06-29 15:58:00   ...     \n",
       "3      Service Requests                Ward 3 2016-02-23 10:08:00   ...     \n",
       "4      Service Requests                Ward 7 2017-05-09 14:03:00   ...     \n",
       "\n",
       "       long STATEFP  COUNTYFP  TRACTCE              AFFGEOID        GEOID  \\\n",
       "0 -71.12520      25        17   350600  1400000US25017350600  25017350600   \n",
       "1 -71.10195      25        17   350200  1400000US25017350200  25017350200   \n",
       "2 -71.11537      25        17   350900  1400000US25017350900  25017350900   \n",
       "3 -71.11064      25        17   351000  1400000US25017351000  25017351000   \n",
       "4 -71.12431      25        17   350600  1400000US25017350600  25017350600   \n",
       "\n",
       "     NAME LSAD   ALAND  AWATER  \n",
       "0  3506.0   CT  516247       0  \n",
       "1  3502.0   CT  683707       0  \n",
       "2  3509.0   CT  421685       0  \n",
       "3  3510.0   CT  668313       0  \n",
       "4  3506.0   CT  516247       0  \n",
       "\n",
       "[5 rows x 23 columns]"
      ]
     },
     "execution_count": 52,
     "metadata": {},
     "output_type": "execute_result"
    }
   ],
   "source": [
    "df.head()"
   ]
  },
  {
   "cell_type": "markdown",
   "metadata": {},
   "source": [
    "### Number of request per year"
   ]
  },
  {
   "cell_type": "code",
   "execution_count": 53,
   "metadata": {
    "collapsed": false
   },
   "outputs": [
    {
     "data": {
      "text/plain": [
       "<matplotlib.axes._subplots.AxesSubplot at 0xf0d2748>"
      ]
     },
     "execution_count": 53,
     "metadata": {},
     "output_type": "execute_result"
    },
    {
     "data": {
      "image/png": "[encoded data removed]",
      "text/plain": [
       "<matplotlib.figure.Figure at 0x108c7588>"
      ]
     },
     "metadata": {},
     "output_type": "display_data"
    }
   ],
   "source": [
    "df['count']=1\n",
    "df['year']=df.requested_datetime.dt.year\n",
    "df[['year','count']].groupby('year').count().plot(kind='bar')"
   ]
  },
  {
   "cell_type": "markdown",
   "metadata": {},
   "source": [
    "### Number of request per month (2017)"
   ]
  },
  {
   "cell_type": "code",
   "execution_count": 54,
   "metadata": {
    "collapsed": false
   },
   "outputs": [
    {
     "data": {
      "text/plain": [
       "<matplotlib.axes._subplots.AxesSubplot at 0xe6df668>"
      ]
     },
     "execution_count": 54,
     "metadata": {},
     "output_type": "execute_result"
    },
    {
     "data": {
      "image/png": "[encoded data removed]",
      "text/plain": [
       "<matplotlib.figure.Figure at 0xf003b38>"
      ]
     },
     "metadata": {},
     "output_type": "display_data"
    }
   ],
   "source": [
    "df=df[df['year']==2017]\n",
    "df['month']=df.requested_datetime.dt.month\n",
    "df[['month','count']].groupby('month').count().plot(kind='bar')"
   ]
  },
  {
   "cell_type": "code",
   "execution_count": 55,
   "metadata": {
    "collapsed": false
   },
   "outputs": [
    {
     "data": {
      "text/plain": [
       "(24390, 26)"
      ]
     },
     "execution_count": 55,
     "metadata": {},
     "output_type": "execute_result"
    }
   ],
   "source": [
    "df=df[df.month>2]\n",
    "df.shape"
   ]
  },
  {
   "cell_type": "code",
   "execution_count": 56,
   "metadata": {
    "collapsed": false
   },
   "outputs": [],
   "source": [
    "dg=df.groupby('TRACTCE').count()\n",
    "tracts=dg[dg['count']>10].index\n",
    "df=df[df.TRACTCE.isin(tracts)]\n",
    "df=df.reset_index(drop=True)"
   ]
  },
  {
   "cell_type": "code",
   "execution_count": 57,
   "metadata": {
    "collapsed": false
   },
   "outputs": [
    {
     "data": {
      "text/plain": [
       "Pothole                                               1754\n",
       "Obtain a parking permit inquiry                       1329\n",
       "Temporary no parking sign posting                     1274\n",
       "Illegal parking                                        872\n",
       "TV/monitor pick up                                     854\n",
       "School building maintenance & repairs                  827\n",
       "Repeat Call                                            534\n",
       "Trash questions                                        449\n",
       "Sidewalk repair                                        418\n",
       "City building maintenance & repairs                    402\n",
       "Down tree limb branch                                  400\n",
       "Residential & other non-business permit assistance     397\n",
       "CS-Lost call (wrong #, hang up, dead air)              397\n",
       "Miscellaneous                                          382\n",
       "Tree trimming/pruning                                  373\n",
       "Consideration request                                  365\n",
       "Online permit help/questions                           354\n",
       "Status of permit renewal/purchase inquiry              344\n",
       "Disposal of yard waste/xmas tree inquiry               322\n",
       "Water inquiries & feedback                             322\n",
       "ISD-Buildings                                          313\n",
       "Rats                                                   309\n",
       "Missed trash pick up                                   274\n",
       "Dead animal                                            268\n",
       "Registry hold release request                          242\n",
       "Graffiti                                               240\n",
       "Report extra trash                                     235\n",
       "Ticket info. (balance, how many, citation #, etc.)     225\n",
       "City office hours or directions                        205\n",
       "Report missed recycling pick up                        195\n",
       "Snow/sidewalk not shoveled                             193\n",
       "Traffic light/crossing signal issue                    188\n",
       "Appeal issue request                                   187\n",
       "DPW information/feedback                               185\n",
       "Police-Call transferred to dispatch                    178\n",
       "Clarification of traffic/parking regulations           177\n",
       "Constituent Services                                   175\n",
       "Arborist and tree maintenance                          173\n",
       "Moving vans/pods/No Parking signs inquiry              163\n",
       "CS-Welcome kit paper/mail out requests                 159\n",
       "Clerk-Public services/non-criminal citations           157\n",
       "Snow removal request                                   157\n",
       "Park/grounds issue                                     153\n",
       "How to appeal a parking ticket inquiry                 151\n",
       "Treasury                                               150\n",
       "Report missed yard waste pick up                       146\n",
       "T&P information/feedback                               145\n",
       "Assessor                                               128\n",
       "Airplane, airport or FAA questions and complaints      126\n",
       "Trash and recycling pickup/holiday information         123\n",
       "Name: service_name, dtype: int64"
      ]
     },
     "execution_count": 57,
     "metadata": {},
     "output_type": "execute_result"
    }
   ],
   "source": [
    "df.service_name.value_counts()[0:50]"
   ]
  },
  {
   "cell_type": "code",
   "execution_count": 58,
   "metadata": {
    "collapsed": false
   },
   "outputs": [
    {
     "data": {
      "text/plain": [
       "Trash issues                                          123\n",
       "OSPCD                                                 123\n",
       "Deliveries for events                                 122\n",
       "Street/road defect                                    120\n",
       "Treasury-Municipal billing/tax information            113\n",
       "Sustainability & environment                          112\n",
       "Welcome desk online assistance                        110\n",
       "ISD-Health                                            109\n",
       "City event information-sponsored                      107\n",
       "City school department call                           107\n",
       "T&P Miscellaneous                                     102\n",
       "CS-Street sweeper schedule & alert add/remove          99\n",
       "City Clerk                                             99\n",
       "Reschedule hearing request                             97\n",
       "Sinkhole                                               97\n",
       "Sewer                                                  94\n",
       "Construction and road work inquiries                   90\n",
       "Abandoned property                                     90\n",
       "Council on Aging                                       89\n",
       "Recycling questions                                    87\n",
       "Fire-Downed wire                                       86\n",
       "Furniture and equipment moving                         86\n",
       "Unknown/Miscellaneous                                  85\n",
       "White goods sticker questions                          79\n",
       "Missing/stolen recycling cart                          79\n",
       "Disposal of hazardous waste inquiry                    78\n",
       "Assistance paying a parking ticket                     77\n",
       "Tree/stump removal                                     77\n",
       "Bagging request                                        74\n",
       "Street light issue                                     72\n",
       "Street sign issue                                      71\n",
       "Damaged or missing permanent sign                      71\n",
       "Police-Questions/information                           70\n",
       "Status on ticket appeal inquiry                        69\n",
       "Trash/debris on sidewalk or street                     68\n",
       "Snow related feedback (if follow up is not needed)     67\n",
       "Missing/stolen trash cart report                       67\n",
       "CTY follow up questions                                67\n",
       "Damaged/broken trash cart report                       66\n",
       "Animal Control                                         65\n",
       "Mayor                                                  65\n",
       "Removing a registry hold Inquiry                       62\n",
       "Fire-Other inquiries                                   61\n",
       "Illegal dumping                                        60\n",
       "Late fee removal request                               59\n",
       "CTY add/remove request                                 59\n",
       "Disposal extra trash inquiry                           59\n",
       "Street cleaning/sweeping                               59\n",
       "Catch basin                                            56\n",
       "Fire                                                   55\n",
       "Name: service_name, dtype: int64"
      ]
     },
     "execution_count": 58,
     "metadata": {},
     "output_type": "execute_result"
    }
   ],
   "source": [
    "df.service_name.value_counts()[50:100]"
   ]
  },
  {
   "cell_type": "code",
   "execution_count": 59,
   "metadata": {
    "collapsed": false
   },
   "outputs": [],
   "source": [
    "dg=df.groupby('service_name').count()\n",
    "services=['TV/monitor pick up','Illegal parking','ISD-Buildings','Street light issue','Abandoned property','Power outage']\n",
    "df=df[df.service_name.isin(services)]\n",
    "df=df.reset_index(drop=True)"
   ]
  },
  {
   "cell_type": "code",
   "execution_count": 60,
   "metadata": {
    "collapsed": false
   },
   "outputs": [],
   "source": [
    "df['week']=df.requested_datetime.dt.week\n",
    "dg=df[['week','TRACTCE','service_name','count']].groupby(['week','TRACTCE','service_name']).count()\n",
    "dg=dg.unstack().reset_index()\n",
    "dg.columns=['Week Number','Tract Number']+list(dg.columns.get_level_values(1)[2:])"
   ]
  },
  {
   "cell_type": "code",
   "execution_count": 66,
   "metadata": {
    "collapsed": false,
    "scrolled": true
   },
   "outputs": [
    {
     "data": {
      "text/plain": [
       "(394, 8)"
      ]
     },
     "execution_count": 66,
     "metadata": {},
     "output_type": "execute_result"
    }
   ],
   "source": [
    "dg=dg.fillna(0)\n",
    "dg.shape"
   ]
  },
  {
   "cell_type": "code",
   "execution_count": 62,
   "metadata": {
    "collapsed": true
   },
   "outputs": [],
   "source": [
    "dg.to_csv('311_tract_groups.csv',index=False)"
   ]
  }
 ],
 "metadata": {
  "kernelspec": {
   "display_name": "Python [Root]",
   "language": "python",
   "name": "Python [Root]"
  },
  "language_info": {
   "codemirror_mode": {
    "name": "ipython",
    "version": 2
   },
   "file_extension": ".py",
   "mimetype": "text/x-python",
   "name": "python",
   "nbconvert_exporter": "python",
   "pygments_lexer": "ipython2",
   "version": "2.7.12"
  }
 },
 "nbformat": 4,
 "nbformat_minor": 2
}
