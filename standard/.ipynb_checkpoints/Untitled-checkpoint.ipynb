{
 "cells": [
  {
   "cell_type": "code",
   "execution_count": 9,
   "metadata": {
    "collapsed": true
   },
   "outputs": [],
   "source": [
    "import pandas as pd\n",
    "import collections"
   ]
  },
  {
   "cell_type": "code",
   "execution_count": 26,
   "metadata": {
    "collapsed": false
   },
   "outputs": [],
   "source": [
    "data='../data/311_Constituent_Services_Daily_Calls.csv'\n",
    "data='../data/louisvile/citizen311data_2016_0.csv'"
   ]
  },
  {
   "cell_type": "code",
   "execution_count": 27,
   "metadata": {
    "collapsed": false
   },
   "outputs": [
    {
     "data": {
      "text/plain": [
       "(102039, 11)"
      ]
     },
     "execution_count": 27,
     "metadata": {},
     "output_type": "execute_result"
    }
   ],
   "source": [
    "df=pd.read_csv(data)\n",
    "df.shape"
   ]
  },
  {
   "cell_type": "code",
   "execution_count": 29,
   "metadata": {
    "collapsed": true
   },
   "outputs": [],
   "source": [
    "service_type='issue_type'\n",
    "service_type='service_name'"
   ]
  },
  {
   "cell_type": "code",
   "execution_count": 32,
   "metadata": {
    "collapsed": false
   },
   "outputs": [
    {
     "data": {
      "text/plain": [
       "(230,)"
      ]
     },
     "execution_count": 32,
     "metadata": {},
     "output_type": "execute_result"
    }
   ],
   "source": [
    "dg=df[service_type].groupby(df[service_type]).count()\n",
    "dg.shape"
   ]
  },
  {
   "cell_type": "code",
   "execution_count": 33,
   "metadata": {
    "collapsed": false,
    "scrolled": true
   },
   "outputs": [
    {
     "data": {
      "text/plain": [
       "service_name\n",
       "HIGH GRASS WEEDS    8676\n",
       "DAMAGE GARB CART    5509\n",
       "TRASH PVT PROP      5393\n",
       "EXTERIOR VIOL       4529\n",
       "STREET POTHOLE      4482\n",
       "GARBAGE MISSED      4002\n",
       "ABANDON VEHICLE     3346\n",
       "DEAD ANIMAL         3199\n",
       "MISCELLANEOUS       3064\n",
       "RECYCLE BINS        2895\n",
       "STOLEN GARB CART    2751\n",
       "VEHICLE PVT PROP    2522\n",
       "ILLEGAL DUMPING     2376\n",
       "INTERIOR VIOL       2121\n",
       "LIGHTING REPAIR     1856\n",
       "VAP STRUC WEEDS     1651\n",
       "SIGNAGE REPAIR      1640\n",
       "TRAF SIGNAL REPR    1579\n",
       "NEW RECYCLE CART    1542\n",
       "YARD WASTE MISS     1506\n",
       "OVERGROWTH          1427\n",
       "TRAFFIC CONCERN     1401\n",
       "RECYCLING MISSED    1361\n",
       "JUNK VIOLATION      1361\n",
       "STREET HAZARD       1322\n",
       "PARK MAINTAIN       1248\n",
       "ZONING CONCERNS     1225\n",
       "MOSQUITOS           1199\n",
       "SIDEWALK REPAIR     1184\n",
       "TRAF SIG TIMING     1157\n",
       "                    ... \n",
       "NELECT OFFICIALS       2\n",
       "NHUMAN RESOURCES       2\n",
       "NLEAF DROP OFF         2\n",
       "NJAIL JCYC HIP         2\n",
       "XPOTH                  2\n",
       "XSTLT                  2\n",
       "XANMD                  2\n",
       "XMOSQ                  2\n",
       "NPROBATION PAROL       1\n",
       "XBEDB                  1\n",
       "XGRFT                  1\n",
       "NHOUSING AUTH          1\n",
       "NREVENUE COMM          1\n",
       "NHOLIDAY CLOSING       1\n",
       "XEXTV                  1\n",
       "XTSRP                  1\n",
       "NEVENT OTHER           1\n",
       "BANNER REPAIR          1\n",
       "NWEATHER OTHER         1\n",
       "NEMERG HEAT COOL       1\n",
       "NEMA EMS 911           1\n",
       "NDRUG TOSS             1\n",
       "NDRIVERS LICENSE       1\n",
       "NDISABILITIES          1\n",
       "NDERBY EVENTS          1\n",
       "NCOUNTY ATTORNEY       1\n",
       "NAPCD                  1\n",
       "XPEST                  1\n",
       "XRWOB                  1\n",
       "VENDING CONCERNS       1\n",
       "Name: service_name, dtype: int64"
      ]
     },
     "execution_count": 33,
     "metadata": {},
     "output_type": "execute_result"
    }
   ],
   "source": [
    "dg.sort_values(ascending=False)"
   ]
  }
 ],
 "metadata": {
  "kernelspec": {
   "display_name": "Python [Root]",
   "language": "python",
   "name": "Python [Root]"
  },
  "language_info": {
   "codemirror_mode": {
    "name": "ipython",
    "version": 2
   },
   "file_extension": ".py",
   "mimetype": "text/x-python",
   "name": "python",
   "nbconvert_exporter": "python",
   "pygments_lexer": "ipython2",
   "version": "2.7.12"
  }
 },
 "nbformat": 4,
 "nbformat_minor": 0
}
