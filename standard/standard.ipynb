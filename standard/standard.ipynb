{
 "cells": [
  {
   "cell_type": "code",
   "execution_count": 110,
   "metadata": {
    "collapsed": false
   },
   "outputs": [],
   "source": [
    "import pandas as pd\n",
    "import collections\n",
    "import matplotlib.pyplot as plt\n",
    "from __future__ import division\n"
   ]
  },
  {
   "cell_type": "code",
   "execution_count": 8,
   "metadata": {
    "collapsed": true
   },
   "outputs": [],
   "source": [
    "%matplotlib inline"
   ]
  },
  {
   "cell_type": "code",
   "execution_count": 52,
   "metadata": {
    "collapsed": false
   },
   "outputs": [],
   "source": [
    "def dist(data,service_type):\n",
    "    df=pd.read_csv(data)\n",
    "    dg=df[service_type].groupby(df[service_type]).count()\n",
    "    dist=dg.sort_values(ascending=False)\n",
    "    return dist,df"
   ]
  },
  {
   "cell_type": "code",
   "execution_count": 152,
   "metadata": {
    "collapsed": false
   },
   "outputs": [
    {
     "name": "stdout",
     "output_type": "stream",
     "text": [
      "1027469\n",
      "0.788939617643\n"
     ]
    }
   ],
   "source": [
    "data='../data/boston/311__Service_Requests.csv'\n",
    "service_type='CASE_TITLE'\n",
    "dist_df,df=dist(data,service_type)\n",
    "l1=dist_df[0:50].index\n",
    "#.plot(kind='bar',figsize=(15,5))\n",
    "print dist_df.values.sum()\n",
    "print dist_df[0:50].values.sum()/dist_df.values.sum()"
   ]
  },
  {
   "cell_type": "code",
   "execution_count": 153,
   "metadata": {
    "collapsed": false
   },
   "outputs": [
    {
     "name": "stdout",
     "output_type": "stream",
     "text": [
      "555811\n",
      "0.849761879488\n"
     ]
    }
   ],
   "source": [
    "data='../data/cincinnati/Cincinnati_311__Non-Emergency__Service_Requests.csv'\n",
    "service_type='SERVICE_NAME'\n",
    "dist_df,df=dist(data,service_type)\n",
    "l2=dist_df[0:50].index\n",
    "#.plot(kind='bar',figsize=(15,5))\n",
    "print dist_df.values.sum()\n",
    "print dist_df[0:50].values.sum()/dist_df.values.sum()"
   ]
  },
  {
   "cell_type": "code",
   "execution_count": 154,
   "metadata": {
    "collapsed": false
   },
   "outputs": [
    {
     "name": "stdout",
     "output_type": "stream",
     "text": [
      "955815\n",
      "1.0\n"
     ]
    }
   ],
   "source": [
    "data='../data/los_angeles/MyLA311_Service_Request_Data_2017.csv'\n",
    "service_type='RequestType'\n",
    "dist_df,df=dist(data,service_type)\n",
    "l3=dist_df[0:50].index\n",
    "#.plot(kind='bar',figsize=(15,5))\n",
    "print dist_df.values.sum()\n",
    "print dist_df[0:50].values.sum()/dist_df.values.sum()"
   ]
  },
  {
   "cell_type": "code",
   "execution_count": 155,
   "metadata": {
    "collapsed": false
   },
   "outputs": [
    {
     "name": "stdout",
     "output_type": "stream",
     "text": [
      "102039\n",
      "0.887788002626\n"
     ]
    }
   ],
   "source": [
    "data='../data/louisvile/citizen311data_2016_0.csv'\n",
    "service_type='service_name'\n",
    "dist_df,df=dist(data,service_type)\n",
    "l4=dist_df[0:50].index\n",
    "#.plot(kind='bar',figsize=(15,5))\n",
    "print dist_df.values.sum()\n",
    "print dist_df[0:50].values.sum()/dist_df.values.sum()"
   ]
  },
  {
   "cell_type": "code",
   "execution_count": 160,
   "metadata": {
    "collapsed": false
   },
   "outputs": [
    {
     "name": "stdout",
     "output_type": "stream",
     "text": [
      "1110841\n",
      "0.987161078858\n"
     ]
    }
   ],
   "source": [
    "data='../data/kansas/311_Call_Center_Service_Requests.csv'\n",
    "service_type='CATEGORY'\n",
    "dist_df,df=dist(data,service_type)\n",
    "l5=dist_df[0:50].index\n",
    "#.plot(kind='bar',figsize=(15,5))\n",
    "print dist_df.values.sum()\n",
    "print dist_df[0:50].values.sum()/dist_df.values.sum()"
   ]
  },
  {
   "cell_type": "code",
   "execution_count": 162,
   "metadata": {
    "collapsed": false
   },
   "outputs": [
    {
     "name": "stdout",
     "output_type": "stream",
     "text": [
      "244338\n",
      "1.0\n"
     ]
    }
   ],
   "source": [
    "data='../data/new_orleans/311_Calls__2012-Present_.csv'\n",
    "service_type='issue_type'\n",
    "dist_df,df=dist(data,service_type)\n",
    "l6=dist_df[0:50].index\n",
    "#.plot(kind='bar',figsize=(15,5))\n",
    "print dist_df.values.sum()\n",
    "print dist_df[0:50].values.sum()/dist_df.values.sum()"
   ]
  },
  {
   "cell_type": "code",
   "execution_count": 166,
   "metadata": {
    "collapsed": false
   },
   "outputs": [
    {
     "name": "stdout",
     "output_type": "stream",
     "text": [
      "0.901279157261\n"
     ]
    }
   ],
   "source": [
    "data='../data/nyc/nyc17.csv'\n",
    "service_type='Complaint Type'\n",
    "dist_df,df=dist(data,service_type)\n",
    "l7=dist_df[0:50].index\n",
    "#.plot(kind='bar',figsize=(15,5))\n",
    "print dist_df[0:50].values.sum()/dist_df.values.sum()"
   ]
  },
  {
   "cell_type": "code",
   "execution_count": 167,
   "metadata": {
    "collapsed": false
   },
   "outputs": [
    {
     "name": "stdout",
     "output_type": "stream",
     "text": [
      "1659364\n",
      "0.999957212522\n"
     ]
    }
   ],
   "source": [
    "data='../data/philadelphia/public_cases_fc.csv'\n",
    "service_type='service_name'\n",
    "dist_df,df=dist(data,service_type)\n",
    "l8=dist_df[0:50].index\n",
    "#.plot(kind='bar',figsize=(15,5))\n",
    "print dist_df.values.sum()\n",
    "print dist_df[0:50].values.sum()/dist_df.values.sum()"
   ]
  },
  {
   "cell_type": "code",
   "execution_count": 169,
   "metadata": {
    "collapsed": false
   },
   "outputs": [
    {
     "name": "stdout",
     "output_type": "stream",
     "text": [
      "185136\n",
      "0.797964739435\n"
     ]
    }
   ],
   "source": [
    "data='../data/pittsburgh/40776043-ad00-40f5-9dc8-1fde865ff571.csv'\n",
    "service_type='REQUEST_TYPE'\n",
    "dist_df,df=dist(data,service_type)\n",
    "l9=dist_df[0:50].index\n",
    "#.plot(kind='bar',figsize=(15,5))\n",
    "print dist_df.values.sum()\n",
    "print dist_df[0:50].values.sum()/dist_df.values.sum()"
   ]
  },
  {
   "cell_type": "code",
   "execution_count": 173,
   "metadata": {
    "collapsed": false
   },
   "outputs": [
    {
     "name": "stdout",
     "output_type": "stream",
     "text": [
      "161763\n",
      "1.0\n"
     ]
    }
   ],
   "source": [
    "data='../data/san_diego/get_it_done_311_requests_datasd.csv'\n",
    "service_type='service_name'\n",
    "dist_df,df=dist(data,service_type)\n",
    "l9=dist_df[0:50].index\n",
    "#.plot(kind='bar',figsize=(15,5))\n",
    "print dist_df.values.sum()\n",
    "print dist_df[0:50].values.sum()/dist_df.values.sum()"
   ]
  },
  {
   "cell_type": "code",
   "execution_count": 175,
   "metadata": {
    "collapsed": false
   },
   "outputs": [],
   "source": [
    "pd.DataFrame([l1,l2,l3,l4,l5,l6,l7,l8,l9]).transpose().to_csv('top_service.csv',index=False)"
   ]
  },
  {
   "cell_type": "code",
   "execution_count": null,
   "metadata": {
    "collapsed": true
   },
   "outputs": [],
   "source": []
  }
 ],
 "metadata": {
  "kernelspec": {
   "display_name": "Python [Root]",
   "language": "python",
   "name": "Python [Root]"
  },
  "language_info": {
   "codemirror_mode": {
    "name": "ipython",
    "version": 2
   },
   "file_extension": ".py",
   "mimetype": "text/x-python",
   "name": "python",
   "nbconvert_exporter": "python",
   "pygments_lexer": "ipython2",
   "version": "2.7.12"
  }
 },
 "nbformat": 4,
 "nbformat_minor": 0
}
