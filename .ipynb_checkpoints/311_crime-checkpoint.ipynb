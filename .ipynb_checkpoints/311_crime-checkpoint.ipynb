{
 "cells": [
  {
   "cell_type": "code",
   "execution_count": 23,
   "metadata": {
    "collapsed": false
   },
   "outputs": [
    {
     "data": {
      "text/html": [
       "<script>\n",
       "code_show=true; \n",
       "function code_toggle() {\n",
       " if (code_show){\n",
       " $('div.input').hide();\n",
       " } else {\n",
       " $('div.input').show();\n",
       " }\n",
       " code_show = !code_show\n",
       "} \n",
       "$( document ).ready(code_toggle);\n",
       "</script>\n",
       "<form action=\"javascript:code_toggle()\"><input type=\"submit\" value=\"Click here to toggle on/off the raw code.\"></form>"
      ],
      "text/plain": [
       "<IPython.core.display.HTML object>"
      ]
     },
     "execution_count": 23,
     "metadata": {},
     "output_type": "execute_result"
    }
   ],
   "source": [
    "from IPython.display import HTML\n",
    "\n",
    "HTML('''<script>\n",
    "code_show=true; \n",
    "function code_toggle() {\n",
    " if (code_show){\n",
    " $('div.input').hide();\n",
    " } else {\n",
    " $('div.input').show();\n",
    " }\n",
    " code_show = !code_show\n",
    "} \n",
    "$( document ).ready(code_toggle);\n",
    "</script>\n",
    "<form action=\"javascript:code_toggle()\"><input type=\"submit\" value=\"Click here to toggle on/off the raw code.\"></form>''')"
   ]
  },
  {
   "cell_type": "markdown",
   "metadata": {},
   "source": [
    "# 311 - Crime Relation"
   ]
  },
  {
   "cell_type": "markdown",
   "metadata": {},
   "source": [
    "### Importing libraries"
   ]
  },
  {
   "cell_type": "code",
   "execution_count": 65,
   "metadata": {
    "collapsed": false
   },
   "outputs": [],
   "source": [
    "import pandas as pd\n",
    "import matplotlib.pyplot as plt\n",
    "from IPython.display import Image\n",
    "from IPython.core.display import HTML\n",
    "import seaborn as sns\n",
    "\n",
    "\n",
    "%matplotlib inline"
   ]
  },
  {
   "cell_type": "markdown",
   "metadata": {},
   "source": [
    "### Reading Selected Crime Data (BURGLARY/BREAKING AND ENTERING\tMOTOR VEHICLE THEFT\tROBBERY\tTHEFT FROM MOTOR VEHICLE)"
   ]
  },
  {
   "cell_type": "code",
   "execution_count": 30,
   "metadata": {
    "collapsed": false,
    "scrolled": true
   },
   "outputs": [],
   "source": [
    "df=pd.read_csv('Police_-_Selected_Criminal_Incidents_tracts.csv',parse_dates=['dtreported'])"
   ]
  },
  {
   "cell_type": "markdown",
   "metadata": {},
   "source": [
    "### *** census tract infromation added - retrived from Cencus for each record based on lat-lon"
   ]
  },
  {
   "cell_type": "markdown",
   "metadata": {},
   "source": [
    "### Data Table (rows, columns)"
   ]
  },
  {
   "cell_type": "code",
   "execution_count": 36,
   "metadata": {
    "collapsed": false
   },
   "outputs": [
    {
     "data": {
      "text/plain": [
       "(13636, 20)"
      ]
     },
     "execution_count": 36,
     "metadata": {},
     "output_type": "execute_result"
    }
   ],
   "source": [
    "df.shape"
   ]
  },
  {
   "cell_type": "markdown",
   "metadata": {},
   "source": [
    "### Sample Crime Data"
   ]
  },
  {
   "cell_type": "code",
   "execution_count": 37,
   "metadata": {
    "collapsed": false
   },
   "outputs": [
    {
     "data": {
      "text/html": [
       "<div>\n",
       "<table border=\"1\" class=\"dataframe\">\n",
       "  <thead>\n",
       "    <tr style=\"text-align: right;\">\n",
       "      <th></th>\n",
       "      <th>incnum</th>\n",
       "      <th>dtreported</th>\n",
       "      <th>stnum</th>\n",
       "      <th>stname1</th>\n",
       "      <th>stname2</th>\n",
       "      <th>loctype</th>\n",
       "      <th>ra</th>\n",
       "      <th>offensecode</th>\n",
       "      <th>offense</th>\n",
       "      <th>X</th>\n",
       "      <th>Y</th>\n",
       "      <th>STATEFP</th>\n",
       "      <th>COUNTYFP</th>\n",
       "      <th>TRACTCE</th>\n",
       "      <th>AFFGEOID</th>\n",
       "      <th>GEOID</th>\n",
       "      <th>NAME</th>\n",
       "      <th>LSAD</th>\n",
       "      <th>ALAND</th>\n",
       "      <th>AWATER</th>\n",
       "    </tr>\n",
       "  </thead>\n",
       "  <tbody>\n",
       "    <tr>\n",
       "      <th>0</th>\n",
       "      <td>7026331</td>\n",
       "      <td>2007-07-21 00:50:00</td>\n",
       "      <td>XX</td>\n",
       "      <td>15 TENNYSON STREET</td>\n",
       "      <td>NaN</td>\n",
       "      <td>I</td>\n",
       "      <td>NaN</td>\n",
       "      <td>120</td>\n",
       "      <td>ROBBERY</td>\n",
       "      <td>-71.10003</td>\n",
       "      <td>42.39183</td>\n",
       "      <td>25.0</td>\n",
       "      <td>17.0</td>\n",
       "      <td>350200.0</td>\n",
       "      <td>1400000US25017350200</td>\n",
       "      <td>2.501735e+10</td>\n",
       "      <td>3502.00</td>\n",
       "      <td>CT</td>\n",
       "      <td>683707.0</td>\n",
       "      <td>0.0</td>\n",
       "    </tr>\n",
       "    <tr>\n",
       "      <th>1</th>\n",
       "      <td>8035903</td>\n",
       "      <td>2008-10-06 09:46:00</td>\n",
       "      <td>XX</td>\n",
       "      <td>422 MYSTIC AVE</td>\n",
       "      <td>NaN</td>\n",
       "      <td>S</td>\n",
       "      <td>35.0</td>\n",
       "      <td>23F</td>\n",
       "      <td>THEFT FROM MOTOR VEHICLE</td>\n",
       "      <td>-71.08901</td>\n",
       "      <td>42.39509</td>\n",
       "      <td>25.0</td>\n",
       "      <td>17.0</td>\n",
       "      <td>350104.0</td>\n",
       "      <td>1400000US25017350104</td>\n",
       "      <td>2.501735e+10</td>\n",
       "      <td>3501.04</td>\n",
       "      <td>CT</td>\n",
       "      <td>917458.0</td>\n",
       "      <td>1616.0</td>\n",
       "    </tr>\n",
       "    <tr>\n",
       "      <th>2</th>\n",
       "      <td>5042153</td>\n",
       "      <td>2005-12-24 04:43:00</td>\n",
       "      <td>XX</td>\n",
       "      <td>709 MCGRATH HWY</td>\n",
       "      <td>NaN</td>\n",
       "      <td>NaN</td>\n",
       "      <td>NaN</td>\n",
       "      <td>120</td>\n",
       "      <td>ROBBERY</td>\n",
       "      <td>-71.08673</td>\n",
       "      <td>42.39063</td>\n",
       "      <td>25.0</td>\n",
       "      <td>17.0</td>\n",
       "      <td>350104.0</td>\n",
       "      <td>1400000US25017350104</td>\n",
       "      <td>2.501735e+10</td>\n",
       "      <td>3501.04</td>\n",
       "      <td>CT</td>\n",
       "      <td>917458.0</td>\n",
       "      <td>1616.0</td>\n",
       "    </tr>\n",
       "    <tr>\n",
       "      <th>3</th>\n",
       "      <td>8000319</td>\n",
       "      <td>2008-01-03 19:00:00</td>\n",
       "      <td>XX</td>\n",
       "      <td>ABERDEEN RD</td>\n",
       "      <td>NaN</td>\n",
       "      <td>S</td>\n",
       "      <td>97.0</td>\n",
       "      <td>23F</td>\n",
       "      <td>THEFT FROM MOTOR VEHICLE</td>\n",
       "      <td>-71.11355</td>\n",
       "      <td>42.39205</td>\n",
       "      <td>25.0</td>\n",
       "      <td>17.0</td>\n",
       "      <td>351000.0</td>\n",
       "      <td>1400000US25017351000</td>\n",
       "      <td>2.501735e+10</td>\n",
       "      <td>3510.00</td>\n",
       "      <td>CT</td>\n",
       "      <td>668313.0</td>\n",
       "      <td>0.0</td>\n",
       "    </tr>\n",
       "    <tr>\n",
       "      <th>4</th>\n",
       "      <td>7017731</td>\n",
       "      <td>2007-05-23 11:33:00</td>\n",
       "      <td>XX</td>\n",
       "      <td>ACADIA PK</td>\n",
       "      <td>NaN</td>\n",
       "      <td>S</td>\n",
       "      <td>NaN</td>\n",
       "      <td>23F</td>\n",
       "      <td>THEFT FROM MOTOR VEHICLE</td>\n",
       "      <td>-71.11692</td>\n",
       "      <td>42.38826</td>\n",
       "      <td>25.0</td>\n",
       "      <td>17.0</td>\n",
       "      <td>351000.0</td>\n",
       "      <td>1400000US25017351000</td>\n",
       "      <td>2.501735e+10</td>\n",
       "      <td>3510.00</td>\n",
       "      <td>CT</td>\n",
       "      <td>668313.0</td>\n",
       "      <td>0.0</td>\n",
       "    </tr>\n",
       "  </tbody>\n",
       "</table>\n",
       "</div>"
      ],
      "text/plain": [
       "    incnum          dtreported stnum             stname1 stname2 loctype  \\\n",
       "0  7026331 2007-07-21 00:50:00    XX  15 TENNYSON STREET     NaN       I   \n",
       "1  8035903 2008-10-06 09:46:00    XX      422 MYSTIC AVE     NaN       S   \n",
       "2  5042153 2005-12-24 04:43:00    XX     709 MCGRATH HWY     NaN     NaN   \n",
       "3  8000319 2008-01-03 19:00:00    XX         ABERDEEN RD     NaN       S   \n",
       "4  7017731 2007-05-23 11:33:00    XX           ACADIA PK     NaN       S   \n",
       "\n",
       "     ra offensecode                   offense         X         Y  STATEFP  \\\n",
       "0   NaN         120                   ROBBERY -71.10003  42.39183     25.0   \n",
       "1  35.0         23F  THEFT FROM MOTOR VEHICLE -71.08901  42.39509     25.0   \n",
       "2   NaN         120                   ROBBERY -71.08673  42.39063     25.0   \n",
       "3  97.0         23F  THEFT FROM MOTOR VEHICLE -71.11355  42.39205     25.0   \n",
       "4   NaN         23F  THEFT FROM MOTOR VEHICLE -71.11692  42.38826     25.0   \n",
       "\n",
       "   COUNTYFP   TRACTCE              AFFGEOID         GEOID     NAME LSAD  \\\n",
       "0      17.0  350200.0  1400000US25017350200  2.501735e+10  3502.00   CT   \n",
       "1      17.0  350104.0  1400000US25017350104  2.501735e+10  3501.04   CT   \n",
       "2      17.0  350104.0  1400000US25017350104  2.501735e+10  3501.04   CT   \n",
       "3      17.0  351000.0  1400000US25017351000  2.501735e+10  3510.00   CT   \n",
       "4      17.0  351000.0  1400000US25017351000  2.501735e+10  3510.00   CT   \n",
       "\n",
       "      ALAND  AWATER  \n",
       "0  683707.0     0.0  \n",
       "1  917458.0  1616.0  \n",
       "2  917458.0  1616.0  \n",
       "3  668313.0     0.0  \n",
       "4  668313.0     0.0  "
      ]
     },
     "execution_count": 37,
     "metadata": {},
     "output_type": "execute_result"
    }
   ],
   "source": [
    "df.head()"
   ]
  },
  {
   "cell_type": "markdown",
   "metadata": {},
   "source": [
    "### Number of recorded crimes (selected crimes) per year"
   ]
  },
  {
   "cell_type": "code",
   "execution_count": 39,
   "metadata": {
    "collapsed": false
   },
   "outputs": [
    {
     "data": {
      "text/plain": [
       "<matplotlib.axes._subplots.AxesSubplot at 0x1185e6550>"
      ]
     },
     "execution_count": 39,
     "metadata": {},
     "output_type": "execute_result"
    },
    {
     "data": {
      "image/png": "[encoded data removed]",
      "text/plain": [
       "<matplotlib.figure.Figure at 0x11971a510>"
      ]
     },
     "metadata": {},
     "output_type": "display_data"
    }
   ],
   "source": [
    "df['count']=1\n",
    "df['year']=df.dtreported.dt.year\n",
    "df[['year','count']].groupby('year').count().plot(kind='bar')"
   ]
  },
  {
   "cell_type": "markdown",
   "metadata": {},
   "source": [
    "### Limiting Data to 2017\n",
    "### Number of recorded crimes (selected crimes) per month (2017)"
   ]
  },
  {
   "cell_type": "code",
   "execution_count": 41,
   "metadata": {
    "collapsed": false
   },
   "outputs": [
    {
     "data": {
      "text/plain": [
       "<matplotlib.axes._subplots.AxesSubplot at 0x118b6d510>"
      ]
     },
     "execution_count": 41,
     "metadata": {},
     "output_type": "execute_result"
    },
    {
     "data": {
      "image/png": "[encoded data removed]",
      "text/plain": [
       "<matplotlib.figure.Figure at 0x118dc2c90>"
      ]
     },
     "metadata": {},
     "output_type": "display_data"
    }
   ],
   "source": [
    "df=df[df['year']==2017]\n",
    "df['month']=df.dtreported.dt.month\n",
    "df[['month','count']].groupby('month').count().plot(kind='bar')"
   ]
  },
  {
   "cell_type": "markdown",
   "metadata": {},
   "source": [
    "### Limiting data to Feb to June 2017"
   ]
  },
  {
   "cell_type": "code",
   "execution_count": 44,
   "metadata": {
    "collapsed": false
   },
   "outputs": [
    {
     "data": {
      "text/plain": [
       "166"
      ]
     },
     "execution_count": 44,
     "metadata": {},
     "output_type": "execute_result"
    }
   ],
   "source": [
    "df=df[df.month>2]\n",
    "df.shape[0]"
   ]
  },
  {
   "cell_type": "markdown",
   "metadata": {},
   "source": [
    "### Agregating Crime Data by week and tract"
   ]
  },
  {
   "cell_type": "code",
   "execution_count": 46,
   "metadata": {
    "collapsed": false
   },
   "outputs": [],
   "source": [
    "df['week']=df.dtreported.dt.week\n",
    "dg=df[['week','TRACTCE','offense','count']].groupby(['week','TRACTCE','offense']).count()\n",
    "dg=dg.unstack().reset_index()\n",
    "dg.columns=['Week Number','Tract Number']+list(dg.columns.get_level_values(1)[2:])"
   ]
  },
  {
   "cell_type": "code",
   "execution_count": 59,
   "metadata": {
    "collapsed": false,
    "scrolled": true
   },
   "outputs": [],
   "source": [
    "dg=dg.fillna(0)\n",
    "dg['Tract Number']=dg['Tract Number'].astype(int)"
   ]
  },
  {
   "cell_type": "markdown",
   "metadata": {},
   "source": [
    "### Number of aggregated records"
   ]
  },
  {
   "cell_type": "code",
   "execution_count": 61,
   "metadata": {
    "collapsed": false
   },
   "outputs": [
    {
     "data": {
      "text/plain": [
       "118"
      ]
     },
     "execution_count": 61,
     "metadata": {},
     "output_type": "execute_result"
    }
   ],
   "source": [
    "dg.shape[0]"
   ]
  },
  {
   "cell_type": "markdown",
   "metadata": {},
   "source": [
    "### Sample Aggregated Crime Data"
   ]
  },
  {
   "cell_type": "code",
   "execution_count": 56,
   "metadata": {
    "collapsed": false
   },
   "outputs": [
    {
     "data": {
      "text/html": [
       "<div>\n",
       "<table border=\"1\" class=\"dataframe\">\n",
       "  <thead>\n",
       "    <tr style=\"text-align: right;\">\n",
       "      <th></th>\n",
       "      <th>Week Number</th>\n",
       "      <th>Tract Number</th>\n",
       "      <th>BURGLARY/BREAKING AND ENTERING</th>\n",
       "      <th>MOTOR VEHICLE THEFT</th>\n",
       "      <th>ROBBERY</th>\n",
       "      <th>THEFT FROM MOTOR VEHICLE</th>\n",
       "    </tr>\n",
       "  </thead>\n",
       "  <tbody>\n",
       "    <tr>\n",
       "      <th>0</th>\n",
       "      <td>9</td>\n",
       "      <td>350104</td>\n",
       "      <td>1.0</td>\n",
       "      <td>0.0</td>\n",
       "      <td>0.0</td>\n",
       "      <td>1.0</td>\n",
       "    </tr>\n",
       "    <tr>\n",
       "      <th>1</th>\n",
       "      <td>9</td>\n",
       "      <td>350300</td>\n",
       "      <td>0.0</td>\n",
       "      <td>2.0</td>\n",
       "      <td>0.0</td>\n",
       "      <td>0.0</td>\n",
       "    </tr>\n",
       "    <tr>\n",
       "      <th>2</th>\n",
       "      <td>9</td>\n",
       "      <td>350400</td>\n",
       "      <td>1.0</td>\n",
       "      <td>0.0</td>\n",
       "      <td>0.0</td>\n",
       "      <td>0.0</td>\n",
       "    </tr>\n",
       "    <tr>\n",
       "      <th>3</th>\n",
       "      <td>9</td>\n",
       "      <td>351203</td>\n",
       "      <td>0.0</td>\n",
       "      <td>1.0</td>\n",
       "      <td>0.0</td>\n",
       "      <td>0.0</td>\n",
       "    </tr>\n",
       "    <tr>\n",
       "      <th>4</th>\n",
       "      <td>9</td>\n",
       "      <td>351403</td>\n",
       "      <td>1.0</td>\n",
       "      <td>0.0</td>\n",
       "      <td>0.0</td>\n",
       "      <td>1.0</td>\n",
       "    </tr>\n",
       "  </tbody>\n",
       "</table>\n",
       "</div>"
      ],
      "text/plain": [
       "   Week Number  Tract Number  BURGLARY/BREAKING AND ENTERING  \\\n",
       "0            9        350104                             1.0   \n",
       "1            9        350300                             0.0   \n",
       "2            9        350400                             1.0   \n",
       "3            9        351203                             0.0   \n",
       "4            9        351403                             1.0   \n",
       "\n",
       "   MOTOR VEHICLE THEFT  ROBBERY  THEFT FROM MOTOR VEHICLE  \n",
       "0                  0.0      0.0                       1.0  \n",
       "1                  2.0      0.0                       0.0  \n",
       "2                  0.0      0.0                       0.0  \n",
       "3                  1.0      0.0                       0.0  \n",
       "4                  0.0      0.0                       1.0  "
      ]
     },
     "execution_count": 56,
     "metadata": {},
     "output_type": "execute_result"
    }
   ],
   "source": [
    "dg.head()"
   ]
  },
  {
   "cell_type": "markdown",
   "metadata": {},
   "source": [
    "### Merging aggregated crime data with aggregated 311 Data"
   ]
  },
  {
   "cell_type": "code",
   "execution_count": 58,
   "metadata": {
    "collapsed": false
   },
   "outputs": [
    {
     "data": {
      "text/html": [
       "<div>\n",
       "<table border=\"1\" class=\"dataframe\">\n",
       "  <thead>\n",
       "    <tr style=\"text-align: right;\">\n",
       "      <th></th>\n",
       "      <th>Week Number</th>\n",
       "      <th>Tract Number</th>\n",
       "      <th>BURGLARY/BREAKING AND ENTERING</th>\n",
       "      <th>MOTOR VEHICLE THEFT</th>\n",
       "      <th>ROBBERY</th>\n",
       "      <th>THEFT FROM MOTOR VEHICLE</th>\n",
       "      <th>Abandoned property</th>\n",
       "      <th>ISD-Buildings</th>\n",
       "      <th>Illegal parking</th>\n",
       "      <th>Power outage</th>\n",
       "      <th>Street light issue</th>\n",
       "      <th>TV/monitor pick up</th>\n",
       "    </tr>\n",
       "  </thead>\n",
       "  <tbody>\n",
       "    <tr>\n",
       "      <th>0</th>\n",
       "      <td>9</td>\n",
       "      <td>350104</td>\n",
       "      <td>1.0</td>\n",
       "      <td>0.0</td>\n",
       "      <td>0.0</td>\n",
       "      <td>1.0</td>\n",
       "      <td>0.0</td>\n",
       "      <td>0.0</td>\n",
       "      <td>5.0</td>\n",
       "      <td>0.0</td>\n",
       "      <td>0.0</td>\n",
       "      <td>1.0</td>\n",
       "    </tr>\n",
       "    <tr>\n",
       "      <th>1</th>\n",
       "      <td>9</td>\n",
       "      <td>350300</td>\n",
       "      <td>0.0</td>\n",
       "      <td>2.0</td>\n",
       "      <td>0.0</td>\n",
       "      <td>0.0</td>\n",
       "      <td>0.0</td>\n",
       "      <td>0.0</td>\n",
       "      <td>1.0</td>\n",
       "      <td>0.0</td>\n",
       "      <td>0.0</td>\n",
       "      <td>1.0</td>\n",
       "    </tr>\n",
       "    <tr>\n",
       "      <th>2</th>\n",
       "      <td>9</td>\n",
       "      <td>350400</td>\n",
       "      <td>1.0</td>\n",
       "      <td>0.0</td>\n",
       "      <td>0.0</td>\n",
       "      <td>0.0</td>\n",
       "      <td>0.0</td>\n",
       "      <td>0.0</td>\n",
       "      <td>1.0</td>\n",
       "      <td>0.0</td>\n",
       "      <td>1.0</td>\n",
       "      <td>1.0</td>\n",
       "    </tr>\n",
       "    <tr>\n",
       "      <th>3</th>\n",
       "      <td>9</td>\n",
       "      <td>351203</td>\n",
       "      <td>0.0</td>\n",
       "      <td>1.0</td>\n",
       "      <td>0.0</td>\n",
       "      <td>0.0</td>\n",
       "      <td>0.0</td>\n",
       "      <td>1.0</td>\n",
       "      <td>0.0</td>\n",
       "      <td>0.0</td>\n",
       "      <td>0.0</td>\n",
       "      <td>0.0</td>\n",
       "    </tr>\n",
       "    <tr>\n",
       "      <th>4</th>\n",
       "      <td>9</td>\n",
       "      <td>351403</td>\n",
       "      <td>1.0</td>\n",
       "      <td>0.0</td>\n",
       "      <td>0.0</td>\n",
       "      <td>1.0</td>\n",
       "      <td>0.0</td>\n",
       "      <td>0.0</td>\n",
       "      <td>2.0</td>\n",
       "      <td>0.0</td>\n",
       "      <td>1.0</td>\n",
       "      <td>0.0</td>\n",
       "    </tr>\n",
       "  </tbody>\n",
       "</table>\n",
       "</div>"
      ],
      "text/plain": [
       "   Week Number  Tract Number  BURGLARY/BREAKING AND ENTERING  \\\n",
       "0            9        350104                             1.0   \n",
       "1            9        350300                             0.0   \n",
       "2            9        350400                             1.0   \n",
       "3            9        351203                             0.0   \n",
       "4            9        351403                             1.0   \n",
       "\n",
       "   MOTOR VEHICLE THEFT  ROBBERY  THEFT FROM MOTOR VEHICLE  Abandoned property  \\\n",
       "0                  0.0      0.0                       1.0                 0.0   \n",
       "1                  2.0      0.0                       0.0                 0.0   \n",
       "2                  0.0      0.0                       0.0                 0.0   \n",
       "3                  1.0      0.0                       0.0                 0.0   \n",
       "4                  0.0      0.0                       1.0                 0.0   \n",
       "\n",
       "   ISD-Buildings  Illegal parking  Power outage  Street light issue  \\\n",
       "0            0.0              5.0           0.0                 0.0   \n",
       "1            0.0              1.0           0.0                 0.0   \n",
       "2            0.0              1.0           0.0                 1.0   \n",
       "3            1.0              0.0           0.0                 0.0   \n",
       "4            0.0              2.0           0.0                 1.0   \n",
       "\n",
       "   TV/monitor pick up  \n",
       "0                 1.0  \n",
       "1                 1.0  \n",
       "2                 1.0  \n",
       "3                 0.0  \n",
       "4                 0.0  "
      ]
     },
     "execution_count": 58,
     "metadata": {},
     "output_type": "execute_result"
    }
   ],
   "source": [
    "dg_311=pd.read_csv('311_tract_groups.csv')\n",
    "dg_merged=pd.merge(dg,dg_311 ,  how='left')\n",
    "dg_merged.head()"
   ]
  },
  {
   "cell_type": "markdown",
   "metadata": {},
   "source": [
    "### 311 and Crime Relations (Correlations)"
   ]
  },
  {
   "cell_type": "code",
   "execution_count": 63,
   "metadata": {
    "collapsed": false
   },
   "outputs": [
    {
     "data": {
      "text/html": [
       "<div>\n",
       "<table border=\"1\" class=\"dataframe\">\n",
       "  <thead>\n",
       "    <tr style=\"text-align: right;\">\n",
       "      <th></th>\n",
       "      <th>BURGLARY/BREAKING AND ENTERING</th>\n",
       "      <th>MOTOR VEHICLE THEFT</th>\n",
       "      <th>ROBBERY</th>\n",
       "      <th>THEFT FROM MOTOR VEHICLE</th>\n",
       "    </tr>\n",
       "  </thead>\n",
       "  <tbody>\n",
       "    <tr>\n",
       "      <th>Abandoned property</th>\n",
       "      <td>0.047709</td>\n",
       "      <td>0.026686</td>\n",
       "      <td>0.027538</td>\n",
       "      <td>-0.091098</td>\n",
       "    </tr>\n",
       "    <tr>\n",
       "      <th>ISD-Buildings</th>\n",
       "      <td>0.048950</td>\n",
       "      <td>0.130730</td>\n",
       "      <td>0.014779</td>\n",
       "      <td>-0.126216</td>\n",
       "    </tr>\n",
       "    <tr>\n",
       "      <th>Illegal parking</th>\n",
       "      <td>0.142665</td>\n",
       "      <td>-0.119636</td>\n",
       "      <td>0.125516</td>\n",
       "      <td>-0.096228</td>\n",
       "    </tr>\n",
       "    <tr>\n",
       "      <th>Power outage</th>\n",
       "      <td>NaN</td>\n",
       "      <td>NaN</td>\n",
       "      <td>NaN</td>\n",
       "      <td>NaN</td>\n",
       "    </tr>\n",
       "    <tr>\n",
       "      <th>Street light issue</th>\n",
       "      <td>-0.046208</td>\n",
       "      <td>-0.098865</td>\n",
       "      <td>-0.003488</td>\n",
       "      <td>0.067020</td>\n",
       "    </tr>\n",
       "    <tr>\n",
       "      <th>TV/monitor pick up</th>\n",
       "      <td>0.058483</td>\n",
       "      <td>0.126066</td>\n",
       "      <td>0.029796</td>\n",
       "      <td>-0.164923</td>\n",
       "    </tr>\n",
       "  </tbody>\n",
       "</table>\n",
       "</div>"
      ],
      "text/plain": [
       "                    BURGLARY/BREAKING AND ENTERING  MOTOR VEHICLE THEFT  \\\n",
       "Abandoned property                        0.047709             0.026686   \n",
       "ISD-Buildings                             0.048950             0.130730   \n",
       "Illegal parking                           0.142665            -0.119636   \n",
       "Power outage                                   NaN                  NaN   \n",
       "Street light issue                       -0.046208            -0.098865   \n",
       "TV/monitor pick up                        0.058483             0.126066   \n",
       "\n",
       "                     ROBBERY  THEFT FROM MOTOR VEHICLE  \n",
       "Abandoned property  0.027538                 -0.091098  \n",
       "ISD-Buildings       0.014779                 -0.126216  \n",
       "Illegal parking     0.125516                 -0.096228  \n",
       "Power outage             NaN                       NaN  \n",
       "Street light issue -0.003488                  0.067020  \n",
       "TV/monitor pick up  0.029796                 -0.164923  "
      ]
     },
     "execution_count": 63,
     "metadata": {},
     "output_type": "execute_result"
    }
   ],
   "source": [
    "corr=dg_merged[dg_merged.columns[2:]].corr()\n",
    "corr=corr[corr.columns[0:4]]\n",
    "corr[4:]"
   ]
  },
  {
   "cell_type": "code",
   "execution_count": 66,
   "metadata": {
    "collapsed": false
   },
   "outputs": [
    {
     "data": {
      "text/plain": [
       "<matplotlib.axes._subplots.AxesSubplot at 0x11c1cb710>"
      ]
     },
     "execution_count": 66,
     "metadata": {},
     "output_type": "execute_result"
    },
    {
     "data": {
      "image/png": "[encoded data removed]",
      "text/plain": [
       "<matplotlib.figure.Figure at 0x11c33bfd0>"
      ]
     },
     "metadata": {},
     "output_type": "display_data"
    }
   ],
   "source": [
    "sns.heatmap(corr[4:], \n",
    "            xticklabels=corr.columns.values,\n",
    "            yticklabels=corr[4:].index,annot=True)"
   ]
  }
 ],
 "metadata": {
  "anaconda-cloud": {},
  "kernelspec": {
   "display_name": "Python [Root]",
   "language": "python",
   "name": "Python [Root]"
  },
  "language_info": {
   "codemirror_mode": {
    "name": "ipython",
    "version": 2
   },
   "file_extension": ".py",
   "mimetype": "text/x-python",
   "name": "python",
   "nbconvert_exporter": "python",
   "pygments_lexer": "ipython2",
   "version": "2.7.12"
  }
 },
 "nbformat": 4,
 "nbformat_minor": 2
}
