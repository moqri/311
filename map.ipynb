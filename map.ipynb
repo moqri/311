{
 "cells": [
  {
   "cell_type": "code",
   "execution_count": 496,
   "metadata": {
    "collapsed": false
   },
   "outputs": [
    {
     "data": {
      "text/html": [
       "<script>\n",
       "code_show=true; \n",
       "function code_toggle() {\n",
       " if (code_show){\n",
       " $('div.input').hide();\n",
       " } else {\n",
       " $('div.input').show();\n",
       " }\n",
       " code_show = !code_show\n",
       "} \n",
       "$( document ).ready(code_toggle);\n",
       "</script>\n",
       "<form action=\"javascript:code_toggle()\"><input type=\"submit\" value=\"Click here to toggle on/off the raw code.\"></form>"
      ],
      "text/plain": [
       "<IPython.core.display.HTML object>"
      ]
     },
     "execution_count": 496,
     "metadata": {},
     "output_type": "execute_result"
    }
   ],
   "source": [
    "from IPython.display import HTML\n",
    "\n",
    "HTML('''<script>\n",
    "code_show=true; \n",
    "function code_toggle() {\n",
    " if (code_show){\n",
    " $('div.input').hide();\n",
    " } else {\n",
    " $('div.input').show();\n",
    " }\n",
    " code_show = !code_show\n",
    "} \n",
    "$( document ).ready(code_toggle);\n",
    "</script>\n",
    "<form action=\"javascript:code_toggle()\"><input type=\"submit\" value=\"Click here to toggle on/off the raw code.\"></form>''')"
   ]
  },
  {
   "cell_type": "code",
   "execution_count": 1,
   "metadata": {
    "collapsed": true
   },
   "outputs": [],
   "source": [
    "import pandas as pd\n",
    "import matplotlib\n",
    "from IPython.display import Image\n",
    "from IPython.core.display import HTML \n",
    "\n",
    "%matplotlib inline"
   ]
  },
  {
   "cell_type": "markdown",
   "metadata": {},
   "source": [
    "### Data Table: (Rows, Columns)"
   ]
  },
  {
   "cell_type": "code",
   "execution_count": 2,
   "metadata": {
    "collapsed": false,
    "scrolled": true
   },
   "outputs": [
    {
     "data": {
      "text/plain": [
       "(38921, 14)"
      ]
     },
     "execution_count": 2,
     "metadata": {},
     "output_type": "execute_result"
    }
   ],
   "source": [
    "df=pd.read_csv('311_geo_report.csv',parse_dates=['requested_datetime','updated_datetime','closed_date'])\n",
    "df.shape"
   ]
  },
  {
   "cell_type": "markdown",
   "metadata": {},
   "source": [
    "### Sample Data"
   ]
  },
  {
   "cell_type": "code",
   "execution_count": 5,
   "metadata": {
    "collapsed": false
   },
   "outputs": [
    {
     "data": {
      "text/html": [
       "<div>\n",
       "<table border=\"1\" class=\"dataframe\">\n",
       "  <thead>\n",
       "    <tr style=\"text-align: right;\">\n",
       "      <th></th>\n",
       "      <th>service_request_id</th>\n",
       "      <th>service_name</th>\n",
       "      <th>requested_datetime</th>\n",
       "      <th>source</th>\n",
       "      <th>description</th>\n",
       "      <th>status_description</th>\n",
       "      <th>updated_datetime</th>\n",
       "      <th>service_subtype</th>\n",
       "      <th>neighborhood_district</th>\n",
       "      <th>closed_date</th>\n",
       "      <th>location</th>\n",
       "      <th>address</th>\n",
       "      <th>lat</th>\n",
       "      <th>long</th>\n",
       "    </tr>\n",
       "  </thead>\n",
       "  <tbody>\n",
       "    <tr>\n",
       "      <th>0</th>\n",
       "      <td>400578</td>\n",
       "      <td>Trash questions</td>\n",
       "      <td>2015-07-02 12:17:00</td>\n",
       "      <td>33891</td>\n",
       "      <td>DPW Sanitation</td>\n",
       "      <td>Closed</td>\n",
       "      <td>2017-06-26 20:17:00</td>\n",
       "      <td>information calls</td>\n",
       "      <td>Ward 7</td>\n",
       "      <td>2017-06-26 20:17:00</td>\n",
       "      <td>80 Electric Ave\\nSomerville, MA\\n(42.403581, -...</td>\n",
       "      <td>80 Electric Ave</td>\n",
       "      <td>42.403581</td>\n",
       "      <td>-71.125199</td>\n",
       "    </tr>\n",
       "    <tr>\n",
       "      <th>1</th>\n",
       "      <td>400606</td>\n",
       "      <td>Request tree on public property</td>\n",
       "      <td>2015-07-02 12:59:00</td>\n",
       "      <td>43103</td>\n",
       "      <td>OSPCD</td>\n",
       "      <td>Closed</td>\n",
       "      <td>2017-06-08 12:35:00</td>\n",
       "      <td>Service Requests</td>\n",
       "      <td>Ward 5</td>\n",
       "      <td>2017-06-08 12:35:00</td>\n",
       "      <td>32 Robinson St\\nSomerville, MA\\n(42.3928953, -...</td>\n",
       "      <td>32 Robinson St</td>\n",
       "      <td>42.392895</td>\n",
       "      <td>-71.101951</td>\n",
       "    </tr>\n",
       "    <tr>\n",
       "      <th>2</th>\n",
       "      <td>401540</td>\n",
       "      <td>Temporary no parking sign posting</td>\n",
       "      <td>2015-07-07 10:08:00</td>\n",
       "      <td>43542</td>\n",
       "      <td>Traffic and Parking</td>\n",
       "      <td>Closed</td>\n",
       "      <td>2017-06-29 15:58:00</td>\n",
       "      <td>internally generated</td>\n",
       "      <td>Ward 6</td>\n",
       "      <td>2017-06-29 15:58:00</td>\n",
       "      <td>5 Windsor Rd\\nSomerville, MA\\n(42.3930438, -71...</td>\n",
       "      <td>5 Windsor Rd</td>\n",
       "      <td>42.393044</td>\n",
       "      <td>-71.115367</td>\n",
       "    </tr>\n",
       "    <tr>\n",
       "      <th>3</th>\n",
       "      <td>402710</td>\n",
       "      <td>Request tree on public property</td>\n",
       "      <td>2015-07-10 11:12:00</td>\n",
       "      <td>27228</td>\n",
       "      <td>OSPCD</td>\n",
       "      <td>Closed</td>\n",
       "      <td>2016-02-23 10:08:00</td>\n",
       "      <td>Service Requests</td>\n",
       "      <td>Ward 3</td>\n",
       "      <td>2016-02-23 10:08:00</td>\n",
       "      <td>56 Lowell St\\nSomerville, MA\\n(42.3863771, -71...</td>\n",
       "      <td>56 Lowell St</td>\n",
       "      <td>42.386377</td>\n",
       "      <td>-71.110644</td>\n",
       "    </tr>\n",
       "    <tr>\n",
       "      <th>4</th>\n",
       "      <td>403238</td>\n",
       "      <td>Arborist and tree maintenance</td>\n",
       "      <td>2015-07-13 15:20:00</td>\n",
       "      <td>31420</td>\n",
       "      <td>DPW-Highway</td>\n",
       "      <td>Closed</td>\n",
       "      <td>2017-05-09 14:03:00</td>\n",
       "      <td>Service Requests</td>\n",
       "      <td>Ward 7</td>\n",
       "      <td>2017-05-09 14:03:00</td>\n",
       "      <td>17 Sunset Rd\\nSomerville, MA\\n(42.4087858, -71...</td>\n",
       "      <td>17 Sunset Rd</td>\n",
       "      <td>42.408786</td>\n",
       "      <td>-71.124307</td>\n",
       "    </tr>\n",
       "  </tbody>\n",
       "</table>\n",
       "</div>"
      ],
      "text/plain": [
       "   service_request_id                       service_name  requested_datetime  \\\n",
       "0              400578                    Trash questions 2015-07-02 12:17:00   \n",
       "1              400606    Request tree on public property 2015-07-02 12:59:00   \n",
       "2              401540  Temporary no parking sign posting 2015-07-07 10:08:00   \n",
       "3              402710    Request tree on public property 2015-07-10 11:12:00   \n",
       "4              403238      Arborist and tree maintenance 2015-07-13 15:20:00   \n",
       "\n",
       "   source          description status_description    updated_datetime  \\\n",
       "0   33891       DPW Sanitation             Closed 2017-06-26 20:17:00   \n",
       "1   43103                OSPCD             Closed 2017-06-08 12:35:00   \n",
       "2   43542  Traffic and Parking             Closed 2017-06-29 15:58:00   \n",
       "3   27228                OSPCD             Closed 2016-02-23 10:08:00   \n",
       "4   31420          DPW-Highway             Closed 2017-05-09 14:03:00   \n",
       "\n",
       "        service_subtype neighborhood_district         closed_date  \\\n",
       "0     information calls                Ward 7 2017-06-26 20:17:00   \n",
       "1      Service Requests                Ward 5 2017-06-08 12:35:00   \n",
       "2  internally generated                Ward 6 2017-06-29 15:58:00   \n",
       "3      Service Requests                Ward 3 2016-02-23 10:08:00   \n",
       "4      Service Requests                Ward 7 2017-05-09 14:03:00   \n",
       "\n",
       "                                            location          address  \\\n",
       "0  80 Electric Ave\\nSomerville, MA\\n(42.403581, -...  80 Electric Ave   \n",
       "1  32 Robinson St\\nSomerville, MA\\n(42.3928953, -...   32 Robinson St   \n",
       "2  5 Windsor Rd\\nSomerville, MA\\n(42.3930438, -71...     5 Windsor Rd   \n",
       "3  56 Lowell St\\nSomerville, MA\\n(42.3863771, -71...     56 Lowell St   \n",
       "4  17 Sunset Rd\\nSomerville, MA\\n(42.4087858, -71...     17 Sunset Rd   \n",
       "\n",
       "         lat       long  \n",
       "0  42.403581 -71.125199  \n",
       "1  42.392895 -71.101951  \n",
       "2  42.393044 -71.115367  \n",
       "3  42.386377 -71.110644  \n",
       "4  42.408786 -71.124307  "
      ]
     },
     "execution_count": 5,
     "metadata": {},
     "output_type": "execute_result"
    }
   ],
   "source": [
    "df.head()"
   ]
  },
  {
   "cell_type": "markdown",
   "metadata": {},
   "source": [
    "### Number of request per year"
   ]
  },
  {
   "cell_type": "code",
   "execution_count": 6,
   "metadata": {
    "collapsed": false
   },
   "outputs": [
    {
     "data": {
      "text/plain": [
       "<matplotlib.axes._subplots.AxesSubplot at 0x1145e1490>"
      ]
     },
     "execution_count": 6,
     "metadata": {},
     "output_type": "execute_result"
    },
    {
     "data": {
      "image/png": "[encoded data removed]",
      "text/plain": [
       "<matplotlib.figure.Figure at 0x1145e19d0>"
      ]
     },
     "metadata": {},
     "output_type": "display_data"
    }
   ],
   "source": [
    "df['count']=1\n",
    "df['year']=df.requested_datetime.dt.year\n",
    "df[['year','count']].groupby('year').count().plot(kind='bar')"
   ]
  },
  {
   "cell_type": "markdown",
   "metadata": {},
   "source": [
    "### Number of request per month (2017)"
   ]
  },
  {
   "cell_type": "code",
   "execution_count": 7,
   "metadata": {
    "collapsed": false
   },
   "outputs": [
    {
     "data": {
      "text/plain": [
       "<matplotlib.axes._subplots.AxesSubplot at 0x112503e90>"
      ]
     },
     "execution_count": 7,
     "metadata": {},
     "output_type": "execute_result"
    },
    {
     "data": {
      "image/png": "[encoded data removed]",
      "text/plain": [
       "<matplotlib.figure.Figure at 0x114535b10>"
      ]
     },
     "metadata": {},
     "output_type": "display_data"
    }
   ],
   "source": [
    "df=df[df['year']==2017]\n",
    "df['month']=df.requested_datetime.dt.month\n",
    "df[['month','count']].groupby('month').count().plot(kind='bar')"
   ]
  },
  {
   "cell_type": "code",
   "execution_count": 8,
   "metadata": {
    "collapsed": false
   },
   "outputs": [
    {
     "data": {
      "text/plain": [
       "(37537, 17)"
      ]
     },
     "execution_count": 8,
     "metadata": {},
     "output_type": "execute_result"
    }
   ],
   "source": [
    "df=df[df.month>2]\n",
    "df.shape"
   ]
  },
  {
   "cell_type": "code",
   "execution_count": 10,
   "metadata": {
    "collapsed": false
   },
   "outputs": [
    {
     "data": {
      "text/plain": [
       "[]"
      ]
     },
     "execution_count": 10,
     "metadata": {},
     "output_type": "execute_result"
    }
   ],
   "source": [
    "from censusgeocode import CensusGeocode\n",
    "\n",
    "cg = CensusGeocode()\n"
   ]
  },
  {
   "cell_type": "code",
   "execution_count": 11,
   "metadata": {
    "collapsed": false
   },
   "outputs": [
    {
     "data": {
      "text/plain": [
       "[]"
      ]
     },
     "execution_count": 11,
     "metadata": {},
     "output_type": "execute_result"
    }
   ],
   "source": [
    "cg.coordinates(x=-76, y=41)\n",
    "cg.onelineaddress('1600 Pennsylvania Avenue, Washington, DC')\n",
    "cg.address('1600 Pennsylvania Avenue', city='Washington', state='DC', zipcode='22052')"
   ]
  },
  {
   "cell_type": "code",
   "execution_count": 49,
   "metadata": {
    "collapsed": false
   },
   "outputs": [
    {
     "data": {
      "text/plain": [
       "(42.400968400000004, -71.1170197)"
      ]
     },
     "execution_count": 49,
     "metadata": {},
     "output_type": "execute_result"
    }
   ],
   "source": [
    "df_a=df[df.lat>0]\n",
    "df_a.lat.iloc[0],df_a.long.iloc[0]"
   ]
  },
  {
   "cell_type": "code",
   "execution_count": 65,
   "metadata": {
    "collapsed": false
   },
   "outputs": [
    {
     "name": "stdout",
     "output_type": "stream",
     "text": [
      "350400\n",
      "350600\n",
      "350800\n",
      "339600\n"
     ]
    },
    {
     "ename": "KeyError",
     "evalue": "'TRACT'",
     "output_type": "error",
     "traceback": [
      "\u001b[0;31m---------------------------------------------------------------------------\u001b[0m",
      "\u001b[0;31mKeyError\u001b[0m                                  Traceback (most recent call last)",
      "\u001b[0;32m<ipython-input-65-a7b32a39a657>\u001b[0m in \u001b[0;36m<module>\u001b[0;34m()\u001b[0m\n\u001b[1;32m      2\u001b[0m     \u001b[0my\u001b[0m\u001b[0;34m,\u001b[0m\u001b[0mx\u001b[0m\u001b[0;34m=\u001b[0m\u001b[0mdf_a\u001b[0m\u001b[0;34m.\u001b[0m\u001b[0mlat\u001b[0m\u001b[0;34m.\u001b[0m\u001b[0miloc\u001b[0m\u001b[0;34m[\u001b[0m\u001b[0;36m0\u001b[0m\u001b[0;34m]\u001b[0m\u001b[0;34m,\u001b[0m\u001b[0mdf_a\u001b[0m\u001b[0;34m.\u001b[0m\u001b[0mlong\u001b[0m\u001b[0;34m.\u001b[0m\u001b[0miloc\u001b[0m\u001b[0;34m[\u001b[0m\u001b[0mi\u001b[0m\u001b[0;34m]\u001b[0m\u001b[0;34m\u001b[0m\u001b[0m\n\u001b[1;32m      3\u001b[0m     \u001b[0mresult\u001b[0m \u001b[0;34m=\u001b[0m \u001b[0mcg\u001b[0m\u001b[0;34m.\u001b[0m\u001b[0mcoordinates\u001b[0m\u001b[0;34m(\u001b[0m\u001b[0mx\u001b[0m\u001b[0;34m,\u001b[0m \u001b[0my\u001b[0m\u001b[0;34m)\u001b[0m\u001b[0;34m\u001b[0m\u001b[0m\n\u001b[0;32m----> 4\u001b[0;31m     \u001b[0;32mprint\u001b[0m \u001b[0mresult\u001b[0m\u001b[0;34m[\u001b[0m\u001b[0;36m0\u001b[0m\u001b[0;34m]\u001b[0m\u001b[0;34m[\u001b[0m\u001b[0;34m'Census Tracts'\u001b[0m\u001b[0;34m]\u001b[0m\u001b[0;34m[\u001b[0m\u001b[0;36m0\u001b[0m\u001b[0;34m]\u001b[0m\u001b[0;34m[\u001b[0m\u001b[0;34m'TRACT'\u001b[0m\u001b[0;34m]\u001b[0m\u001b[0;34m\u001b[0m\u001b[0m\n\u001b[0m",
      "\u001b[0;31mKeyError\u001b[0m: 'TRACT'"
     ]
    }
   ],
   "source": [
    "for i in range(10):\n",
    "    y,x=df_a.lat.iloc[0],df_a.long.iloc[i]\n",
    "    result = cg.coordinates(x, y)\n",
    "    print result[0]['Census Tracts'][0]['TRACT']"
   ]
  },
  {
   "cell_type": "code",
   "execution_count": 66,
   "metadata": {
    "collapsed": false
   },
   "outputs": [
    {
     "data": {
      "text/plain": [
       "[{u'2010 Census Blocks': [{u'AREALAND': 11933,\n",
       "    u'AREAWATER': 0,\n",
       "    u'BASENAME': u'1004',\n",
       "    u'BLKGRP': u'1',\n",
       "    u'BLOCK': u'1004',\n",
       "    u'CENTLAT': u'+42.4008586',\n",
       "    u'CENTLON': u'-071.1269799',\n",
       "    u'COUNTY': u'017',\n",
       "    u'FUNCSTAT': u'S',\n",
       "    u'GEOID': u'250173508001004',\n",
       "    u'INTPTLAT': u'+42.4008586',\n",
       "    u'INTPTLON': u'-071.1269799',\n",
       "    u'LSADC': u'BK',\n",
       "    u'LWBLKTYP': u'L',\n",
       "    u'MTFCC': u'G5040',\n",
       "    u'NAME': u'Block 1004',\n",
       "    u'OBJECTID': 4158788,\n",
       "    u'OID': 210404033707162,\n",
       "    u'STATE': u'25',\n",
       "    u'SUFFIX': u'',\n",
       "    u'TRACT': u'350800'}],\n",
       "  u'Census Tracts': [{u'status': u'Layer query encountered an error: java.lang.RuntimeException: Failed to return'}],\n",
       "  u'Counties': [{u'AREALAND': 2117852212,\n",
       "    u'AREAWATER': 75797487,\n",
       "    u'BASENAME': u'Middlesex',\n",
       "    u'CENTLAT': u'+42.4853692',\n",
       "    u'CENTLON': u'-071.3915715',\n",
       "    u'COUNTY': u'017',\n",
       "    u'COUNTYCC': u'H4',\n",
       "    u'COUNTYNS': u'00606935',\n",
       "    u'FUNCSTAT': u'N',\n",
       "    u'GEOID': u'25017',\n",
       "    u'INTPTLAT': u'+42.4817114',\n",
       "    u'INTPTLON': u'-071.3949166',\n",
       "    u'LSADC': u'06',\n",
       "    u'MTFCC': u'G4020',\n",
       "    u'NAME': u'Middlesex County',\n",
       "    u'OBJECTID': 1324,\n",
       "    u'OID': 27590260056194,\n",
       "    u'STATE': u'25'}],\n",
       "  u'States': [{u'AREALAND': 20204451941,\n",
       "    u'AREAWATER': 7130598852,\n",
       "    u'BASENAME': u'Massachusetts',\n",
       "    u'CENTLAT': u'+42.1618490',\n",
       "    u'CENTLON': u'-071.4975238',\n",
       "    u'DIVISION': u'1',\n",
       "    u'FUNCSTAT': u'A',\n",
       "    u'GEOID': u'25',\n",
       "    u'INTPTLAT': u'+42.1565196',\n",
       "    u'INTPTLON': u'-071.4895915',\n",
       "    u'LSADC': u'00',\n",
       "    u'MTFCC': u'G4000',\n",
       "    u'NAME': u'Massachusetts',\n",
       "    u'OBJECTID': 52,\n",
       "    u'OID': 27490203627104,\n",
       "    u'REGION': u'1',\n",
       "    u'STATE': u'25',\n",
       "    u'STATENS': u'00606926',\n",
       "    u'STUSAB': u'MA'}]}]"
      ]
     },
     "execution_count": 66,
     "metadata": {},
     "output_type": "execute_result"
    }
   ],
   "source": [
    "result"
   ]
  },
  {
   "cell_type": "code",
   "execution_count": null,
   "metadata": {
    "collapsed": true
   },
   "outputs": [],
   "source": []
  }
 ],
 "metadata": {
  "kernelspec": {
   "display_name": "Python [Root]",
   "language": "python",
   "name": "Python [Root]"
  },
  "language_info": {
   "codemirror_mode": {
    "name": "ipython",
    "version": 2
   },
   "file_extension": ".py",
   "mimetype": "text/x-python",
   "name": "python",
   "nbconvert_exporter": "python",
   "pygments_lexer": "ipython2",
   "version": "2.7.12"
  }
 },
 "nbformat": 4,
 "nbformat_minor": 2
}
