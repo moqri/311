{
 "cells": [
  {
   "cell_type": "markdown",
   "metadata": {},
   "source": [
    "# 311 Data Standardization\n",
    "#### specification:  http://wiki.open311.org/GeoReport/bulk"
   ]
  },
  {
   "cell_type": "markdown",
   "metadata": {},
   "source": [
    "### Importing libraries"
   ]
  },
  {
   "cell_type": "code",
   "execution_count": 15,
   "metadata": {
    "collapsed": true
   },
   "outputs": [],
   "source": [
    "import pandas as pd"
   ]
  },
  {
   "cell_type": "markdown",
   "metadata": {},
   "source": [
    "### Importing 311 raw data"
   ]
  },
  {
   "cell_type": "code",
   "execution_count": 16,
   "metadata": {
    "collapsed": false
   },
   "outputs": [],
   "source": [
    "df=pd.read_csv('311_Constituent_Services_Daily_Calls.csv')"
   ]
  },
  {
   "cell_type": "markdown",
   "metadata": {},
   "source": [
    "### Sample 311 raw data"
   ]
  },
  {
   "cell_type": "code",
   "execution_count": 17,
   "metadata": {
    "collapsed": false
   },
   "outputs": [
    {
     "data": {
      "text/html": [
       "<div>\n",
       "<table border=\"1\" class=\"dataframe\">\n",
       "  <thead>\n",
       "    <tr style=\"text-align: right;\">\n",
       "      <th></th>\n",
       "      <th>ticket_id</th>\n",
       "      <th>issue_type</th>\n",
       "      <th>ticket_created_date_time</th>\n",
       "      <th>submitter</th>\n",
       "      <th>issue_description</th>\n",
       "      <th>ticket_status</th>\n",
       "      <th>ticket_last_updated_date_time</th>\n",
       "      <th>secondary_issue_type</th>\n",
       "      <th>neighborhood_district</th>\n",
       "      <th>ticket_closed_date_time</th>\n",
       "      <th>location</th>\n",
       "      <th>street_address</th>\n",
       "    </tr>\n",
       "  </thead>\n",
       "  <tbody>\n",
       "    <tr>\n",
       "      <th>0</th>\n",
       "      <td>400578</td>\n",
       "      <td>Trash questions</td>\n",
       "      <td>07/02/2015 12:17:00 PM</td>\n",
       "      <td>33891</td>\n",
       "      <td>DPW Sanitation</td>\n",
       "      <td>Closed</td>\n",
       "      <td>06/26/2017 08:17:00 PM</td>\n",
       "      <td>information calls</td>\n",
       "      <td>Ward 7</td>\n",
       "      <td>06/26/2017 08:17:00 PM</td>\n",
       "      <td>80 Electric Ave\\nSomerville, MA\\n(42.403581, -...</td>\n",
       "      <td>80 Electric Ave</td>\n",
       "    </tr>\n",
       "    <tr>\n",
       "      <th>1</th>\n",
       "      <td>400606</td>\n",
       "      <td>Request tree on public property</td>\n",
       "      <td>07/02/2015 12:59:00 PM</td>\n",
       "      <td>43103</td>\n",
       "      <td>OSPCD</td>\n",
       "      <td>Closed</td>\n",
       "      <td>06/08/2017 12:35:00 PM</td>\n",
       "      <td>Service Requests</td>\n",
       "      <td>Ward 5</td>\n",
       "      <td>06/08/2017 12:35:00 PM</td>\n",
       "      <td>32 Robinson St\\nSomerville, MA\\n(42.3928953, -...</td>\n",
       "      <td>32 Robinson St</td>\n",
       "    </tr>\n",
       "    <tr>\n",
       "      <th>2</th>\n",
       "      <td>401540</td>\n",
       "      <td>Temporary no parking sign posting</td>\n",
       "      <td>07/07/2015 10:08:00 AM</td>\n",
       "      <td>43542</td>\n",
       "      <td>Traffic and Parking</td>\n",
       "      <td>Closed</td>\n",
       "      <td>06/29/2017 03:58:00 PM</td>\n",
       "      <td>internally generated</td>\n",
       "      <td>Ward 6</td>\n",
       "      <td>06/29/2017 03:58:00 PM</td>\n",
       "      <td>5 Windsor Rd\\nSomerville, MA\\n(42.3930438, -71...</td>\n",
       "      <td>5 Windsor Rd</td>\n",
       "    </tr>\n",
       "    <tr>\n",
       "      <th>3</th>\n",
       "      <td>402710</td>\n",
       "      <td>Request tree on public property</td>\n",
       "      <td>07/10/2015 11:12:00 AM</td>\n",
       "      <td>27228</td>\n",
       "      <td>OSPCD</td>\n",
       "      <td>Closed</td>\n",
       "      <td>02/23/2016 10:08:00 AM</td>\n",
       "      <td>Service Requests</td>\n",
       "      <td>Ward 3</td>\n",
       "      <td>02/23/2016 10:08:00 AM</td>\n",
       "      <td>56 Lowell St\\nSomerville, MA\\n(42.3863771, -71...</td>\n",
       "      <td>56 Lowell St</td>\n",
       "    </tr>\n",
       "    <tr>\n",
       "      <th>4</th>\n",
       "      <td>403238</td>\n",
       "      <td>Arborist and tree maintenance</td>\n",
       "      <td>07/13/2015 03:20:00 PM</td>\n",
       "      <td>31420</td>\n",
       "      <td>DPW-Highway</td>\n",
       "      <td>Closed</td>\n",
       "      <td>05/09/2017 02:03:00 PM</td>\n",
       "      <td>Service Requests</td>\n",
       "      <td>Ward 7</td>\n",
       "      <td>05/09/2017 02:03:00 PM</td>\n",
       "      <td>17 Sunset Rd\\nSomerville, MA\\n(42.4087858, -71...</td>\n",
       "      <td>17 Sunset Rd</td>\n",
       "    </tr>\n",
       "  </tbody>\n",
       "</table>\n",
       "</div>"
      ],
      "text/plain": [
       "   ticket_id                         issue_type ticket_created_date_time  \\\n",
       "0     400578                    Trash questions   07/02/2015 12:17:00 PM   \n",
       "1     400606    Request tree on public property   07/02/2015 12:59:00 PM   \n",
       "2     401540  Temporary no parking sign posting   07/07/2015 10:08:00 AM   \n",
       "3     402710    Request tree on public property   07/10/2015 11:12:00 AM   \n",
       "4     403238      Arborist and tree maintenance   07/13/2015 03:20:00 PM   \n",
       "\n",
       "   submitter    issue_description ticket_status ticket_last_updated_date_time  \\\n",
       "0      33891       DPW Sanitation        Closed        06/26/2017 08:17:00 PM   \n",
       "1      43103                OSPCD        Closed        06/08/2017 12:35:00 PM   \n",
       "2      43542  Traffic and Parking        Closed        06/29/2017 03:58:00 PM   \n",
       "3      27228                OSPCD        Closed        02/23/2016 10:08:00 AM   \n",
       "4      31420          DPW-Highway        Closed        05/09/2017 02:03:00 PM   \n",
       "\n",
       "   secondary_issue_type neighborhood_district ticket_closed_date_time  \\\n",
       "0     information calls                Ward 7  06/26/2017 08:17:00 PM   \n",
       "1      Service Requests                Ward 5  06/08/2017 12:35:00 PM   \n",
       "2  internally generated                Ward 6  06/29/2017 03:58:00 PM   \n",
       "3      Service Requests                Ward 3  02/23/2016 10:08:00 AM   \n",
       "4      Service Requests                Ward 7  05/09/2017 02:03:00 PM   \n",
       "\n",
       "                                            location   street_address  \n",
       "0  80 Electric Ave\\nSomerville, MA\\n(42.403581, -...  80 Electric Ave  \n",
       "1  32 Robinson St\\nSomerville, MA\\n(42.3928953, -...   32 Robinson St  \n",
       "2  5 Windsor Rd\\nSomerville, MA\\n(42.3930438, -71...     5 Windsor Rd  \n",
       "3  56 Lowell St\\nSomerville, MA\\n(42.3863771, -71...     56 Lowell St  \n",
       "4  17 Sunset Rd\\nSomerville, MA\\n(42.4087858, -71...     17 Sunset Rd  "
      ]
     },
     "execution_count": 17,
     "metadata": {},
     "output_type": "execute_result"
    }
   ],
   "source": [
    "df.head()"
   ]
  },
  {
   "cell_type": "markdown",
   "metadata": {},
   "source": [
    "### Renaming fileds to: \n",
    "         'service_request_id',\n",
    "         'service_name',\n",
    "         'requested_datetime',\n",
    "         'source',\n",
    "         'description',\n",
    "         'status_description',\n",
    "         'updated_datetime',\n",
    "         'service_subtype',\n",
    "         'neighborhood_district',\n",
    "         'closed_date',\n",
    "         'location',\n",
    "         'address',"
   ]
  },
  {
   "cell_type": "code",
   "execution_count": 18,
   "metadata": {
    "collapsed": false
   },
   "outputs": [],
   "source": [
    "df.columns=['service_request_id',\n",
    "         'service_name',\n",
    "         'requested_datetime',\n",
    "         'source',\n",
    "         'description',\n",
    "         'status_description',\n",
    "         'updated_datetime',\n",
    "         'service_subtype',\n",
    "         'neighborhood_district',\n",
    "         'closed_date',\n",
    "         'location',\n",
    "         'address',         \n",
    "        ]"
   ]
  },
  {
   "cell_type": "markdown",
   "metadata": {},
   "source": [
    "### Converting location data to latitude and longitude   "
   ]
  },
  {
   "cell_type": "code",
   "execution_count": 19,
   "metadata": {
    "collapsed": true
   },
   "outputs": [],
   "source": [
    "df['lat']=df.location.apply(lambda x : x.split('\\n')[2].split(',')[0][1:])\n",
    "df['long']=df.location.apply(lambda x : x.split('\\n')[2].split(',')[1][:-1])"
   ]
  },
  {
   "cell_type": "markdown",
   "metadata": {},
   "source": [
    "### Formtting date and time to  ISO 8601 (e.g. 1994-11-05T08:15:30-05:00)"
   ]
  },
  {
   "cell_type": "code",
   "execution_count": 20,
   "metadata": {
    "collapsed": true
   },
   "outputs": [],
   "source": [
    "df['requested_datetime']=pd.to_datetime(df['requested_datetime'])\n",
    "df['updated_datetime']=pd.to_datetime(df['updated_datetime'])\n",
    "df['closed_date']=pd.to_datetime(df['closed_date'])"
   ]
  },
  {
   "cell_type": "code",
   "execution_count": 21,
   "metadata": {
    "collapsed": true
   },
   "outputs": [],
   "source": [
    "df['requested_datetime']=df['requested_datetime'].dt.strftime('%Y%m%dT%H:%MZ')\n",
    "df['updated_datetime']=df['updated_datetime'].dt.strftime('%Y%m%dT%H:%MZ')\n",
    "df['closed_date']=df['closed_date'].dt.strftime('%Y%m%dT%H:%MZ')"
   ]
  },
  {
   "cell_type": "markdown",
   "metadata": {},
   "source": [
    "### Sample standardized data"
   ]
  },
  {
   "cell_type": "code",
   "execution_count": 25,
   "metadata": {
    "collapsed": false
   },
   "outputs": [
    {
     "data": {
      "text/html": [
       "<div>\n",
       "<table border=\"1\" class=\"dataframe\">\n",
       "  <thead>\n",
       "    <tr style=\"text-align: right;\">\n",
       "      <th></th>\n",
       "      <th>service_request_id</th>\n",
       "      <th>service_name</th>\n",
       "      <th>requested_datetime</th>\n",
       "      <th>source</th>\n",
       "      <th>description</th>\n",
       "      <th>status_description</th>\n",
       "      <th>updated_datetime</th>\n",
       "      <th>service_subtype</th>\n",
       "      <th>neighborhood_district</th>\n",
       "      <th>closed_date</th>\n",
       "      <th>location</th>\n",
       "      <th>address</th>\n",
       "      <th>lat</th>\n",
       "      <th>long</th>\n",
       "    </tr>\n",
       "  </thead>\n",
       "  <tbody>\n",
       "    <tr>\n",
       "      <th>0</th>\n",
       "      <td>400578</td>\n",
       "      <td>Trash questions</td>\n",
       "      <td>20150702T12:17Z</td>\n",
       "      <td>33891</td>\n",
       "      <td>DPW Sanitation</td>\n",
       "      <td>Closed</td>\n",
       "      <td>20170626T20:17Z</td>\n",
       "      <td>information calls</td>\n",
       "      <td>Ward 7</td>\n",
       "      <td>20170626T20:17Z</td>\n",
       "      <td>80 Electric Ave\\nSomerville, MA\\n(42.403581, -...</td>\n",
       "      <td>80 Electric Ave</td>\n",
       "      <td>42.403581</td>\n",
       "      <td>-71.125199</td>\n",
       "    </tr>\n",
       "    <tr>\n",
       "      <th>1</th>\n",
       "      <td>400606</td>\n",
       "      <td>Request tree on public property</td>\n",
       "      <td>20150702T12:59Z</td>\n",
       "      <td>43103</td>\n",
       "      <td>OSPCD</td>\n",
       "      <td>Closed</td>\n",
       "      <td>20170608T12:35Z</td>\n",
       "      <td>Service Requests</td>\n",
       "      <td>Ward 5</td>\n",
       "      <td>20170608T12:35Z</td>\n",
       "      <td>32 Robinson St\\nSomerville, MA\\n(42.3928953, -...</td>\n",
       "      <td>32 Robinson St</td>\n",
       "      <td>42.3928953</td>\n",
       "      <td>-71.1019513</td>\n",
       "    </tr>\n",
       "    <tr>\n",
       "      <th>2</th>\n",
       "      <td>401540</td>\n",
       "      <td>Temporary no parking sign posting</td>\n",
       "      <td>20150707T10:08Z</td>\n",
       "      <td>43542</td>\n",
       "      <td>Traffic and Parking</td>\n",
       "      <td>Closed</td>\n",
       "      <td>20170629T15:58Z</td>\n",
       "      <td>internally generated</td>\n",
       "      <td>Ward 6</td>\n",
       "      <td>20170629T15:58Z</td>\n",
       "      <td>5 Windsor Rd\\nSomerville, MA\\n(42.3930438, -71...</td>\n",
       "      <td>5 Windsor Rd</td>\n",
       "      <td>42.3930438</td>\n",
       "      <td>-71.115367</td>\n",
       "    </tr>\n",
       "    <tr>\n",
       "      <th>3</th>\n",
       "      <td>402710</td>\n",
       "      <td>Request tree on public property</td>\n",
       "      <td>20150710T11:12Z</td>\n",
       "      <td>27228</td>\n",
       "      <td>OSPCD</td>\n",
       "      <td>Closed</td>\n",
       "      <td>20160223T10:08Z</td>\n",
       "      <td>Service Requests</td>\n",
       "      <td>Ward 3</td>\n",
       "      <td>20160223T10:08Z</td>\n",
       "      <td>56 Lowell St\\nSomerville, MA\\n(42.3863771, -71...</td>\n",
       "      <td>56 Lowell St</td>\n",
       "      <td>42.3863771</td>\n",
       "      <td>-71.1106436</td>\n",
       "    </tr>\n",
       "    <tr>\n",
       "      <th>4</th>\n",
       "      <td>403238</td>\n",
       "      <td>Arborist and tree maintenance</td>\n",
       "      <td>20150713T15:20Z</td>\n",
       "      <td>31420</td>\n",
       "      <td>DPW-Highway</td>\n",
       "      <td>Closed</td>\n",
       "      <td>20170509T14:03Z</td>\n",
       "      <td>Service Requests</td>\n",
       "      <td>Ward 7</td>\n",
       "      <td>20170509T14:03Z</td>\n",
       "      <td>17 Sunset Rd\\nSomerville, MA\\n(42.4087858, -71...</td>\n",
       "      <td>17 Sunset Rd</td>\n",
       "      <td>42.4087858</td>\n",
       "      <td>-71.1243068</td>\n",
       "    </tr>\n",
       "  </tbody>\n",
       "</table>\n",
       "</div>"
      ],
      "text/plain": [
       "   service_request_id                       service_name requested_datetime  \\\n",
       "0              400578                    Trash questions    20150702T12:17Z   \n",
       "1              400606    Request tree on public property    20150702T12:59Z   \n",
       "2              401540  Temporary no parking sign posting    20150707T10:08Z   \n",
       "3              402710    Request tree on public property    20150710T11:12Z   \n",
       "4              403238      Arborist and tree maintenance    20150713T15:20Z   \n",
       "\n",
       "   source          description status_description updated_datetime  \\\n",
       "0   33891       DPW Sanitation             Closed  20170626T20:17Z   \n",
       "1   43103                OSPCD             Closed  20170608T12:35Z   \n",
       "2   43542  Traffic and Parking             Closed  20170629T15:58Z   \n",
       "3   27228                OSPCD             Closed  20160223T10:08Z   \n",
       "4   31420          DPW-Highway             Closed  20170509T14:03Z   \n",
       "\n",
       "        service_subtype neighborhood_district      closed_date  \\\n",
       "0     information calls                Ward 7  20170626T20:17Z   \n",
       "1      Service Requests                Ward 5  20170608T12:35Z   \n",
       "2  internally generated                Ward 6  20170629T15:58Z   \n",
       "3      Service Requests                Ward 3  20160223T10:08Z   \n",
       "4      Service Requests                Ward 7  20170509T14:03Z   \n",
       "\n",
       "                                            location          address  \\\n",
       "0  80 Electric Ave\\nSomerville, MA\\n(42.403581, -...  80 Electric Ave   \n",
       "1  32 Robinson St\\nSomerville, MA\\n(42.3928953, -...   32 Robinson St   \n",
       "2  5 Windsor Rd\\nSomerville, MA\\n(42.3930438, -71...     5 Windsor Rd   \n",
       "3  56 Lowell St\\nSomerville, MA\\n(42.3863771, -71...     56 Lowell St   \n",
       "4  17 Sunset Rd\\nSomerville, MA\\n(42.4087858, -71...     17 Sunset Rd   \n",
       "\n",
       "          lat          long  \n",
       "0   42.403581    -71.125199  \n",
       "1  42.3928953   -71.1019513  \n",
       "2  42.3930438    -71.115367  \n",
       "3  42.3863771   -71.1106436  \n",
       "4  42.4087858   -71.1243068  "
      ]
     },
     "execution_count": 25,
     "metadata": {},
     "output_type": "execute_result"
    }
   ],
   "source": [
    "df.head()"
   ]
  },
  {
   "cell_type": "markdown",
   "metadata": {},
   "source": [
    "### Saving standardized data into '311_geo_report.csv'"
   ]
  },
  {
   "cell_type": "code",
   "execution_count": 23,
   "metadata": {
    "collapsed": true
   },
   "outputs": [],
   "source": [
    "df.to_csv('311_geo_report.csv',index=False)"
   ]
  }
 ],
 "metadata": {
  "kernelspec": {
   "display_name": "Python [Root]",
   "language": "python",
   "name": "Python [Root]"
  },
  "language_info": {
   "codemirror_mode": {
    "name": "ipython",
    "version": 2
   },
   "file_extension": ".py",
   "mimetype": "text/x-python",
   "name": "python",
   "nbconvert_exporter": "python",
   "pygments_lexer": "ipython2",
   "version": "2.7.12"
  }
 },
 "nbformat": 4,
 "nbformat_minor": 2
}
