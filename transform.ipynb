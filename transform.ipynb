{
 "cells": [
  {
   "cell_type": "code",
   "execution_count": 2,
   "metadata": {
    "collapsed": true
   },
   "outputs": [],
   "source": [
    "import pandas as pd"
   ]
  },
  {
   "cell_type": "code",
   "execution_count": 5,
   "metadata": {
    "collapsed": false
   },
   "outputs": [],
   "source": [
    "df=pd.read_csv('311_Constituent_Services_Daily_Calls.csv')"
   ]
  },
  {
   "cell_type": "code",
   "execution_count": 6,
   "metadata": {
    "collapsed": false
   },
   "outputs": [],
   "source": [
    "df.columns=['service_request_id',\n",
    "         'service_name',\n",
    "         'requested_datetime',\n",
    "         'source',\n",
    "         'description',\n",
    "         'status_description',\n",
    "         'updated_datetime',\n",
    "         'service_subtype',\n",
    "         'neighborhood_district',\n",
    "         'closed_date',\n",
    "         'location',\n",
    "         'address',         \n",
    "        ]"
   ]
  },
  {
   "cell_type": "code",
   "execution_count": 7,
   "metadata": {
    "collapsed": true
   },
   "outputs": [],
   "source": [
    "df['lat']=df.location.apply(lambda x : x.split('\\n')[2].split(',')[0][1:])\n",
    "df['long']=df.location.apply(lambda x : x.split('\\n')[2].split(',')[1][:-1])"
   ]
  },
  {
   "cell_type": "code",
   "execution_count": 8,
   "metadata": {
    "collapsed": true
   },
   "outputs": [],
   "source": [
    "df['requested_datetime']=pd.to_datetime(df['requested_datetime'])\n",
    "df['updated_datetime']=pd.to_datetime(df['updated_datetime'])\n",
    "df['closed_date']=pd.to_datetime(df['closed_date'])"
   ]
  },
  {
   "cell_type": "code",
   "execution_count": 9,
   "metadata": {
    "collapsed": true
   },
   "outputs": [],
   "source": [
    "df['requested_datetime']=df['requested_datetime'].dt.strftime('%Y%m%dT%H:%MZ')\n",
    "df['updated_datetime']=df['updated_datetime'].dt.strftime('%Y%m%dT%H:%MZ')\n",
    "df['closed_date']=df['closed_date'].dt.strftime('%Y%m%dT%H:%MZ')"
   ]
  },
  {
   "cell_type": "code",
   "execution_count": 12,
   "metadata": {
    "collapsed": false
   },
   "outputs": [
    {
     "data": {
      "text/plain": [
       "(47834, 14)"
      ]
     },
     "execution_count": 12,
     "metadata": {},
     "output_type": "execute_result"
    }
   ],
   "source": [
    "df.shape"
   ]
  },
  {
   "cell_type": "code",
   "execution_count": 10,
   "metadata": {
    "collapsed": false,
    "scrolled": true
   },
   "outputs": [
    {
     "data": {
      "text/html": [
       "<div>\n",
       "<table border=\"1\" class=\"dataframe\">\n",
       "  <thead>\n",
       "    <tr style=\"text-align: right;\">\n",
       "      <th></th>\n",
       "      <th>service_request_id</th>\n",
       "      <th>service_name</th>\n",
       "      <th>requested_datetime</th>\n",
       "      <th>source</th>\n",
       "      <th>description</th>\n",
       "      <th>status_description</th>\n",
       "      <th>updated_datetime</th>\n",
       "      <th>service_subtype</th>\n",
       "      <th>neighborhood_district</th>\n",
       "      <th>closed_date</th>\n",
       "      <th>location</th>\n",
       "      <th>address</th>\n",
       "      <th>lat</th>\n",
       "      <th>long</th>\n",
       "    </tr>\n",
       "  </thead>\n",
       "  <tbody>\n",
       "    <tr>\n",
       "      <th>0</th>\n",
       "      <td>400578</td>\n",
       "      <td>Trash questions</td>\n",
       "      <td>20150702T12:17Z</td>\n",
       "      <td>33891</td>\n",
       "      <td>DPW Sanitation</td>\n",
       "      <td>Closed</td>\n",
       "      <td>20170626T20:17Z</td>\n",
       "      <td>information calls</td>\n",
       "      <td>Ward 7</td>\n",
       "      <td>20170626T20:17Z</td>\n",
       "      <td>80 Electric Ave\\nSomerville, MA\\n(42.403581, -...</td>\n",
       "      <td>80 Electric Ave</td>\n",
       "      <td>42.403581</td>\n",
       "      <td>-71.125199</td>\n",
       "    </tr>\n",
       "    <tr>\n",
       "      <th>1</th>\n",
       "      <td>400606</td>\n",
       "      <td>Request tree on public property</td>\n",
       "      <td>20150702T12:59Z</td>\n",
       "      <td>43103</td>\n",
       "      <td>OSPCD</td>\n",
       "      <td>Closed</td>\n",
       "      <td>20170608T12:35Z</td>\n",
       "      <td>Service Requests</td>\n",
       "      <td>Ward 5</td>\n",
       "      <td>20170608T12:35Z</td>\n",
       "      <td>32 Robinson St\\nSomerville, MA\\n(42.3928953, -...</td>\n",
       "      <td>32 Robinson St</td>\n",
       "      <td>42.3928953</td>\n",
       "      <td>-71.1019513</td>\n",
       "    </tr>\n",
       "    <tr>\n",
       "      <th>2</th>\n",
       "      <td>401540</td>\n",
       "      <td>Temporary no parking sign posting</td>\n",
       "      <td>20150707T10:08Z</td>\n",
       "      <td>43542</td>\n",
       "      <td>Traffic and Parking</td>\n",
       "      <td>Closed</td>\n",
       "      <td>20170629T15:58Z</td>\n",
       "      <td>internally generated</td>\n",
       "      <td>Ward 6</td>\n",
       "      <td>20170629T15:58Z</td>\n",
       "      <td>5 Windsor Rd\\nSomerville, MA\\n(42.3930438, -71...</td>\n",
       "      <td>5 Windsor Rd</td>\n",
       "      <td>42.3930438</td>\n",
       "      <td>-71.115367</td>\n",
       "    </tr>\n",
       "    <tr>\n",
       "      <th>3</th>\n",
       "      <td>402710</td>\n",
       "      <td>Request tree on public property</td>\n",
       "      <td>20150710T11:12Z</td>\n",
       "      <td>27228</td>\n",
       "      <td>OSPCD</td>\n",
       "      <td>Closed</td>\n",
       "      <td>20160223T10:08Z</td>\n",
       "      <td>Service Requests</td>\n",
       "      <td>Ward 3</td>\n",
       "      <td>20160223T10:08Z</td>\n",
       "      <td>56 Lowell St\\nSomerville, MA\\n(42.3863771, -71...</td>\n",
       "      <td>56 Lowell St</td>\n",
       "      <td>42.3863771</td>\n",
       "      <td>-71.1106436</td>\n",
       "    </tr>\n",
       "    <tr>\n",
       "      <th>4</th>\n",
       "      <td>403238</td>\n",
       "      <td>Arborist and tree maintenance</td>\n",
       "      <td>20150713T15:20Z</td>\n",
       "      <td>31420</td>\n",
       "      <td>DPW-Highway</td>\n",
       "      <td>Closed</td>\n",
       "      <td>20170509T14:03Z</td>\n",
       "      <td>Service Requests</td>\n",
       "      <td>Ward 7</td>\n",
       "      <td>20170509T14:03Z</td>\n",
       "      <td>17 Sunset Rd\\nSomerville, MA\\n(42.4087858, -71...</td>\n",
       "      <td>17 Sunset Rd</td>\n",
       "      <td>42.4087858</td>\n",
       "      <td>-71.1243068</td>\n",
       "    </tr>\n",
       "    <tr>\n",
       "      <th>5</th>\n",
       "      <td>403305</td>\n",
       "      <td>Rats</td>\n",
       "      <td>20150713T19:42Z</td>\n",
       "      <td>43707</td>\n",
       "      <td>ISD Health</td>\n",
       "      <td>Closed</td>\n",
       "      <td>20170724T14:55Z</td>\n",
       "      <td>Service Requests</td>\n",
       "      <td>Ward 1</td>\n",
       "      <td>20170724T14:55Z</td>\n",
       "      <td>84 86 Franklin St\\nSomerville, MA\\n(42.3817863...</td>\n",
       "      <td>84-86 Franklin St</td>\n",
       "      <td>42.3817863</td>\n",
       "      <td>-71.0858919</td>\n",
       "    </tr>\n",
       "    <tr>\n",
       "      <th>6</th>\n",
       "      <td>403460</td>\n",
       "      <td>Request tree on public property</td>\n",
       "      <td>20150714T12:08Z</td>\n",
       "      <td>43750</td>\n",
       "      <td>OSPCD</td>\n",
       "      <td>Closed</td>\n",
       "      <td>20170608T12:08Z</td>\n",
       "      <td>Service Requests</td>\n",
       "      <td>Ward 3</td>\n",
       "      <td>20170608T12:08Z</td>\n",
       "      <td>38 Bow St\\nSomerville, MA\\n(42.3813783, -71.09...</td>\n",
       "      <td>38 Bow St</td>\n",
       "      <td>42.3813783</td>\n",
       "      <td>-71.0974621</td>\n",
       "    </tr>\n",
       "    <tr>\n",
       "      <th>7</th>\n",
       "      <td>403491</td>\n",
       "      <td>Request tree on public property</td>\n",
       "      <td>20150714T13:01Z</td>\n",
       "      <td>28735</td>\n",
       "      <td>OSPCD</td>\n",
       "      <td>Closed</td>\n",
       "      <td>20170608T12:47Z</td>\n",
       "      <td>Service Requests</td>\n",
       "      <td>Ward 3</td>\n",
       "      <td>20170608T12:47Z</td>\n",
       "      <td>18 Richdale Ave\\nSomerville, MA\\n(42.389033, -...</td>\n",
       "      <td>18  Richdale Ave</td>\n",
       "      <td>42.389033</td>\n",
       "      <td>-71.098399</td>\n",
       "    </tr>\n",
       "    <tr>\n",
       "      <th>8</th>\n",
       "      <td>403537</td>\n",
       "      <td>Request tree on public property</td>\n",
       "      <td>20150714T13:34Z</td>\n",
       "      <td>43788</td>\n",
       "      <td>OSPCD</td>\n",
       "      <td>Closed</td>\n",
       "      <td>20170608T12:53Z</td>\n",
       "      <td>Service Requests</td>\n",
       "      <td>Ward 3</td>\n",
       "      <td>20170608T12:53Z</td>\n",
       "      <td>36 Montrose St\\nSomerville, MA\\n(42.3886056, -...</td>\n",
       "      <td>36 Montrose St</td>\n",
       "      <td>42.3886056</td>\n",
       "      <td>-71.0998547</td>\n",
       "    </tr>\n",
       "    <tr>\n",
       "      <th>9</th>\n",
       "      <td>404480</td>\n",
       "      <td>Temporary no parking sign posting</td>\n",
       "      <td>20150717T08:47Z</td>\n",
       "      <td>43542</td>\n",
       "      <td>Traffic and Parking</td>\n",
       "      <td>Closed</td>\n",
       "      <td>20170629T15:49Z</td>\n",
       "      <td>internally generated</td>\n",
       "      <td>Ward 3</td>\n",
       "      <td>20170629T15:49Z</td>\n",
       "      <td>8 Atherton St\\nSomerville, MA\\n(42.3841453, -7...</td>\n",
       "      <td>8 Atherton St</td>\n",
       "      <td>42.3841453</td>\n",
       "      <td>-71.1068308</td>\n",
       "    </tr>\n",
       "  </tbody>\n",
       "</table>\n",
       "</div>"
      ],
      "text/plain": [
       "   service_request_id                       service_name requested_datetime  \\\n",
       "0              400578                    Trash questions    20150702T12:17Z   \n",
       "1              400606    Request tree on public property    20150702T12:59Z   \n",
       "2              401540  Temporary no parking sign posting    20150707T10:08Z   \n",
       "3              402710    Request tree on public property    20150710T11:12Z   \n",
       "4              403238      Arborist and tree maintenance    20150713T15:20Z   \n",
       "5              403305                               Rats    20150713T19:42Z   \n",
       "6              403460    Request tree on public property    20150714T12:08Z   \n",
       "7              403491    Request tree on public property    20150714T13:01Z   \n",
       "8              403537    Request tree on public property    20150714T13:34Z   \n",
       "9              404480  Temporary no parking sign posting    20150717T08:47Z   \n",
       "\n",
       "   source          description status_description updated_datetime  \\\n",
       "0   33891       DPW Sanitation             Closed  20170626T20:17Z   \n",
       "1   43103                OSPCD             Closed  20170608T12:35Z   \n",
       "2   43542  Traffic and Parking             Closed  20170629T15:58Z   \n",
       "3   27228                OSPCD             Closed  20160223T10:08Z   \n",
       "4   31420          DPW-Highway             Closed  20170509T14:03Z   \n",
       "5   43707           ISD Health             Closed  20170724T14:55Z   \n",
       "6   43750                OSPCD             Closed  20170608T12:08Z   \n",
       "7   28735                OSPCD             Closed  20170608T12:47Z   \n",
       "8   43788                OSPCD             Closed  20170608T12:53Z   \n",
       "9   43542  Traffic and Parking             Closed  20170629T15:49Z   \n",
       "\n",
       "        service_subtype neighborhood_district      closed_date  \\\n",
       "0     information calls                Ward 7  20170626T20:17Z   \n",
       "1      Service Requests                Ward 5  20170608T12:35Z   \n",
       "2  internally generated                Ward 6  20170629T15:58Z   \n",
       "3      Service Requests                Ward 3  20160223T10:08Z   \n",
       "4      Service Requests                Ward 7  20170509T14:03Z   \n",
       "5      Service Requests                Ward 1  20170724T14:55Z   \n",
       "6      Service Requests                Ward 3  20170608T12:08Z   \n",
       "7      Service Requests                Ward 3  20170608T12:47Z   \n",
       "8      Service Requests                Ward 3  20170608T12:53Z   \n",
       "9  internally generated                Ward 3  20170629T15:49Z   \n",
       "\n",
       "                                            location            address  \\\n",
       "0  80 Electric Ave\\nSomerville, MA\\n(42.403581, -...    80 Electric Ave   \n",
       "1  32 Robinson St\\nSomerville, MA\\n(42.3928953, -...     32 Robinson St   \n",
       "2  5 Windsor Rd\\nSomerville, MA\\n(42.3930438, -71...       5 Windsor Rd   \n",
       "3  56 Lowell St\\nSomerville, MA\\n(42.3863771, -71...       56 Lowell St   \n",
       "4  17 Sunset Rd\\nSomerville, MA\\n(42.4087858, -71...       17 Sunset Rd   \n",
       "5  84 86 Franklin St\\nSomerville, MA\\n(42.3817863...  84-86 Franklin St   \n",
       "6  38 Bow St\\nSomerville, MA\\n(42.3813783, -71.09...          38 Bow St   \n",
       "7  18 Richdale Ave\\nSomerville, MA\\n(42.389033, -...   18  Richdale Ave   \n",
       "8  36 Montrose St\\nSomerville, MA\\n(42.3886056, -...     36 Montrose St   \n",
       "9  8 Atherton St\\nSomerville, MA\\n(42.3841453, -7...      8 Atherton St   \n",
       "\n",
       "          lat          long  \n",
       "0   42.403581    -71.125199  \n",
       "1  42.3928953   -71.1019513  \n",
       "2  42.3930438    -71.115367  \n",
       "3  42.3863771   -71.1106436  \n",
       "4  42.4087858   -71.1243068  \n",
       "5  42.3817863   -71.0858919  \n",
       "6  42.3813783   -71.0974621  \n",
       "7   42.389033    -71.098399  \n",
       "8  42.3886056   -71.0998547  \n",
       "9  42.3841453   -71.1068308  "
      ]
     },
     "execution_count": 10,
     "metadata": {},
     "output_type": "execute_result"
    }
   ],
   "source": [
    "df.head(10)"
   ]
  },
  {
   "cell_type": "code",
   "execution_count": 13,
   "metadata": {
    "collapsed": true
   },
   "outputs": [],
   "source": [
    "df.to_csv('311_geo_report.csv',index=False)"
   ]
  }
 ],
 "metadata": {
  "kernelspec": {
   "display_name": "Python [Root]",
   "language": "python",
   "name": "Python [Root]"
  },
  "language_info": {
   "codemirror_mode": {
    "name": "ipython",
    "version": 2
   },
   "file_extension": ".py",
   "mimetype": "text/x-python",
   "name": "python",
   "nbconvert_exporter": "python",
   "pygments_lexer": "ipython2",
   "version": "2.7.12"
  }
 },
 "nbformat": 4,
 "nbformat_minor": 2
}
